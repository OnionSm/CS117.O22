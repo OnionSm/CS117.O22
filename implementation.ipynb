{
 "cells": [
  {
   "cell_type": "markdown",
   "metadata": {},
   "source": [
    "## Mô hình dự đoán quản lý chi tiêu \n",
    "\n",
    "Thông tin thành viên\n",
    "| MSSV     | Họ và Tên        | Email                   |\n",
    "|----------|------------------|-------------------------|\n",
    "| 22520033 | Trương Huỳnh Thúy An | 22520033@gm.uit.edu.vn |\n",
    "| 22520083 | Trịnh Thị Lan Anh  | 22520083@gm.uit.edu.vn |\n",
    "| 22520148 | Huỳnh Thị Hải Châu  | 22520148@gm.uit.edu.vn |\n",
    "| 22520363 | Lê Văn Giáp    | 22520363@gm.uit.edu.vn |\n",
    "| 22520375 | Vương Dương Thái Hà | 22520375@gm.uit.edu.vn |\n"
   ]
  },
  {
   "cell_type": "markdown",
   "metadata": {},
   "source": [
    "### Import Libraray"
   ]
  },
  {
   "cell_type": "code",
   "execution_count": 1,
   "metadata": {},
   "outputs": [],
   "source": [
    "import tensorflow as tf\n",
    "import numpy as np\n",
    "import pandas as pd\n",
    "from sklearn.datasets import make_regression\n",
    "from sklearn.metrics import mean_squared_error\n",
    "from tensorflow.keras.models import Sequential\n",
    "from tensorflow.keras.layers import Dense   \n",
    "from tensorflow.keras.models import load_model"
   ]
  },
  {
   "cell_type": "code",
   "execution_count": 2,
   "metadata": {},
   "outputs": [
    {
     "data": {
      "text/html": [
       "<div>\n",
       "<style scoped>\n",
       "    .dataframe tbody tr th:only-of-type {\n",
       "        vertical-align: middle;\n",
       "    }\n",
       "\n",
       "    .dataframe tbody tr th {\n",
       "        vertical-align: top;\n",
       "    }\n",
       "\n",
       "    .dataframe thead th {\n",
       "        text-align: right;\n",
       "    }\n",
       "</style>\n",
       "<table border=\"1\" class=\"dataframe\">\n",
       "  <thead>\n",
       "    <tr style=\"text-align: right;\">\n",
       "      <th></th>\n",
       "      <th>Thu nhap</th>\n",
       "      <th>Co dinh</th>\n",
       "      <th>Nhu cau</th>\n",
       "      <th>Giao duc</th>\n",
       "      <th>Thanh toan no</th>\n",
       "      <th>Tiet kiem</th>\n",
       "      <th>Ban than</th>\n",
       "      <th>a</th>\n",
       "      <th>b</th>\n",
       "      <th>c</th>\n",
       "      <th>d</th>\n",
       "      <th>e</th>\n",
       "      <th>f</th>\n",
       "    </tr>\n",
       "  </thead>\n",
       "  <tbody>\n",
       "    <tr>\n",
       "      <th>0</th>\n",
       "      <td>7550000</td>\n",
       "      <td>3180000</td>\n",
       "      <td>0</td>\n",
       "      <td>1</td>\n",
       "      <td>0</td>\n",
       "      <td>1</td>\n",
       "      <td>0</td>\n",
       "      <td>0.441192</td>\n",
       "      <td>0.396550</td>\n",
       "      <td>0.021725</td>\n",
       "      <td>0.129350</td>\n",
       "      <td>0.000000</td>\n",
       "      <td>0.011183</td>\n",
       "    </tr>\n",
       "    <tr>\n",
       "      <th>1</th>\n",
       "      <td>7350000</td>\n",
       "      <td>2410000</td>\n",
       "      <td>0</td>\n",
       "      <td>1</td>\n",
       "      <td>0</td>\n",
       "      <td>0</td>\n",
       "      <td>1</td>\n",
       "      <td>0.347891</td>\n",
       "      <td>0.111428</td>\n",
       "      <td>0.384311</td>\n",
       "      <td>0.127250</td>\n",
       "      <td>0.000000</td>\n",
       "      <td>0.029119</td>\n",
       "    </tr>\n",
       "    <tr>\n",
       "      <th>2</th>\n",
       "      <td>7750000</td>\n",
       "      <td>2400000</td>\n",
       "      <td>0</td>\n",
       "      <td>0</td>\n",
       "      <td>0</td>\n",
       "      <td>1</td>\n",
       "      <td>0</td>\n",
       "      <td>0.329677</td>\n",
       "      <td>0.335039</td>\n",
       "      <td>0.137593</td>\n",
       "      <td>0.106540</td>\n",
       "      <td>0.000000</td>\n",
       "      <td>0.091150</td>\n",
       "    </tr>\n",
       "    <tr>\n",
       "      <th>3</th>\n",
       "      <td>7250000</td>\n",
       "      <td>3420000</td>\n",
       "      <td>0</td>\n",
       "      <td>1</td>\n",
       "      <td>0</td>\n",
       "      <td>1</td>\n",
       "      <td>0</td>\n",
       "      <td>0.491724</td>\n",
       "      <td>0.334125</td>\n",
       "      <td>0.024972</td>\n",
       "      <td>0.098846</td>\n",
       "      <td>0.000000</td>\n",
       "      <td>0.050333</td>\n",
       "    </tr>\n",
       "    <tr>\n",
       "      <th>4</th>\n",
       "      <td>9000000</td>\n",
       "      <td>2340000</td>\n",
       "      <td>0</td>\n",
       "      <td>1</td>\n",
       "      <td>0</td>\n",
       "      <td>1</td>\n",
       "      <td>0</td>\n",
       "      <td>0.280000</td>\n",
       "      <td>0.343637</td>\n",
       "      <td>0.149464</td>\n",
       "      <td>0.127305</td>\n",
       "      <td>0.000000</td>\n",
       "      <td>0.099593</td>\n",
       "    </tr>\n",
       "    <tr>\n",
       "      <th>...</th>\n",
       "      <td>...</td>\n",
       "      <td>...</td>\n",
       "      <td>...</td>\n",
       "      <td>...</td>\n",
       "      <td>...</td>\n",
       "      <td>...</td>\n",
       "      <td>...</td>\n",
       "      <td>...</td>\n",
       "      <td>...</td>\n",
       "      <td>...</td>\n",
       "      <td>...</td>\n",
       "      <td>...</td>\n",
       "      <td>...</td>\n",
       "    </tr>\n",
       "    <tr>\n",
       "      <th>17494</th>\n",
       "      <td>137131000</td>\n",
       "      <td>12920000</td>\n",
       "      <td>0</td>\n",
       "      <td>1</td>\n",
       "      <td>7000000</td>\n",
       "      <td>0</td>\n",
       "      <td>1</td>\n",
       "      <td>0.104216</td>\n",
       "      <td>0.111008</td>\n",
       "      <td>0.380439</td>\n",
       "      <td>0.307082</td>\n",
       "      <td>0.051046</td>\n",
       "      <td>0.046208</td>\n",
       "    </tr>\n",
       "    <tr>\n",
       "      <th>17495</th>\n",
       "      <td>122268000</td>\n",
       "      <td>11900000</td>\n",
       "      <td>1</td>\n",
       "      <td>0</td>\n",
       "      <td>0</td>\n",
       "      <td>0</td>\n",
       "      <td>1</td>\n",
       "      <td>0.107327</td>\n",
       "      <td>0.057408</td>\n",
       "      <td>0.385542</td>\n",
       "      <td>0.392218</td>\n",
       "      <td>0.000000</td>\n",
       "      <td>0.057505</td>\n",
       "    </tr>\n",
       "    <tr>\n",
       "      <th>17496</th>\n",
       "      <td>126996000</td>\n",
       "      <td>8290000</td>\n",
       "      <td>1</td>\n",
       "      <td>1</td>\n",
       "      <td>0</td>\n",
       "      <td>1</td>\n",
       "      <td>1</td>\n",
       "      <td>0.075278</td>\n",
       "      <td>0.244077</td>\n",
       "      <td>0.391119</td>\n",
       "      <td>0.289073</td>\n",
       "      <td>0.000000</td>\n",
       "      <td>0.000453</td>\n",
       "    </tr>\n",
       "    <tr>\n",
       "      <th>17497</th>\n",
       "      <td>191536000</td>\n",
       "      <td>6780000</td>\n",
       "      <td>1</td>\n",
       "      <td>1</td>\n",
       "      <td>0</td>\n",
       "      <td>1</td>\n",
       "      <td>1</td>\n",
       "      <td>0.045398</td>\n",
       "      <td>0.327679</td>\n",
       "      <td>0.345730</td>\n",
       "      <td>0.224782</td>\n",
       "      <td>0.000000</td>\n",
       "      <td>0.056410</td>\n",
       "    </tr>\n",
       "    <tr>\n",
       "      <th>17498</th>\n",
       "      <td>186326000</td>\n",
       "      <td>14930000</td>\n",
       "      <td>1</td>\n",
       "      <td>0</td>\n",
       "      <td>0</td>\n",
       "      <td>1</td>\n",
       "      <td>1</td>\n",
       "      <td>0.090128</td>\n",
       "      <td>0.239355</td>\n",
       "      <td>0.384005</td>\n",
       "      <td>0.264847</td>\n",
       "      <td>0.000000</td>\n",
       "      <td>0.021664</td>\n",
       "    </tr>\n",
       "  </tbody>\n",
       "</table>\n",
       "<p>17499 rows × 13 columns</p>\n",
       "</div>"
      ],
      "text/plain": [
       "        Thu nhap   Co dinh  Nhu cau  Giao duc  Thanh toan no  Tiet kiem  \\\n",
       "0        7550000   3180000        0         1              0          1   \n",
       "1        7350000   2410000        0         1              0          0   \n",
       "2        7750000   2400000        0         0              0          1   \n",
       "3        7250000   3420000        0         1              0          1   \n",
       "4        9000000   2340000        0         1              0          1   \n",
       "...          ...       ...      ...       ...            ...        ...   \n",
       "17494  137131000  12920000        0         1        7000000          0   \n",
       "17495  122268000  11900000        1         0              0          0   \n",
       "17496  126996000   8290000        1         1              0          1   \n",
       "17497  191536000   6780000        1         1              0          1   \n",
       "17498  186326000  14930000        1         0              0          1   \n",
       "\n",
       "       Ban than         a         b         c         d         e         f  \n",
       "0             0  0.441192  0.396550  0.021725  0.129350  0.000000  0.011183  \n",
       "1             1  0.347891  0.111428  0.384311  0.127250  0.000000  0.029119  \n",
       "2             0  0.329677  0.335039  0.137593  0.106540  0.000000  0.091150  \n",
       "3             0  0.491724  0.334125  0.024972  0.098846  0.000000  0.050333  \n",
       "4             0  0.280000  0.343637  0.149464  0.127305  0.000000  0.099593  \n",
       "...         ...       ...       ...       ...       ...       ...       ...  \n",
       "17494         1  0.104216  0.111008  0.380439  0.307082  0.051046  0.046208  \n",
       "17495         1  0.107327  0.057408  0.385542  0.392218  0.000000  0.057505  \n",
       "17496         1  0.075278  0.244077  0.391119  0.289073  0.000000  0.000453  \n",
       "17497         1  0.045398  0.327679  0.345730  0.224782  0.000000  0.056410  \n",
       "17498         1  0.090128  0.239355  0.384005  0.264847  0.000000  0.021664  \n",
       "\n",
       "[17499 rows x 13 columns]"
      ]
     },
     "execution_count": 2,
     "metadata": {},
     "output_type": "execute_result"
    }
   ],
   "source": [
    "data = pd.read_csv(\"data.csv\", encoding='latin-1')\n",
    "data"
   ]
  },
  {
   "cell_type": "code",
   "execution_count": 3,
   "metadata": {},
   "outputs": [
    {
     "data": {
      "text/plain": [
       "Thu nhap         0\n",
       "Co dinh          0\n",
       "Nhu cau          0\n",
       "Giao duc         0\n",
       "Thanh toan no    0\n",
       "Tiet kiem        0\n",
       "Ban than         0\n",
       "a                0\n",
       "b                0\n",
       "c                0\n",
       "d                0\n",
       "e                0\n",
       "f                0\n",
       "dtype: int64"
      ]
     },
     "execution_count": 3,
     "metadata": {},
     "output_type": "execute_result"
    }
   ],
   "source": [
    "data.isnull().sum()"
   ]
  },
  {
   "cell_type": "code",
   "execution_count": 4,
   "metadata": {},
   "outputs": [
    {
     "data": {
      "text/plain": [
       "Thu nhap         0\n",
       "Co dinh          0\n",
       "Nhu cau          0\n",
       "Giao duc         0\n",
       "Thanh toan no    0\n",
       "Tiet kiem        0\n",
       "Ban than         0\n",
       "a                0\n",
       "b                0\n",
       "c                0\n",
       "d                0\n",
       "e                0\n",
       "f                0\n",
       "dtype: int64"
      ]
     },
     "execution_count": 4,
     "metadata": {},
     "output_type": "execute_result"
    }
   ],
   "source": [
    "data = data.dropna()\n",
    "data.isnull().sum()"
   ]
  },
  {
   "cell_type": "markdown",
   "metadata": {},
   "source": [
    "### Split Data"
   ]
  },
  {
   "cell_type": "code",
   "execution_count": 5,
   "metadata": {},
   "outputs": [
    {
     "name": "stdout",
     "output_type": "stream",
     "text": [
      "[[7.55000e+06 3.18000e+06 0.00000e+00 ... 0.00000e+00 1.00000e+00\n",
      "  0.00000e+00]\n",
      " [7.35000e+06 2.41000e+06 0.00000e+00 ... 0.00000e+00 0.00000e+00\n",
      "  1.00000e+00]\n",
      " [7.75000e+06 2.40000e+06 0.00000e+00 ... 0.00000e+00 1.00000e+00\n",
      "  0.00000e+00]\n",
      " ...\n",
      " [1.26996e+08 8.29000e+06 1.00000e+00 ... 0.00000e+00 1.00000e+00\n",
      "  1.00000e+00]\n",
      " [1.91536e+08 6.78000e+06 1.00000e+00 ... 0.00000e+00 1.00000e+00\n",
      "  1.00000e+00]\n",
      " [1.86326e+08 1.49300e+07 1.00000e+00 ... 0.00000e+00 1.00000e+00\n",
      "  1.00000e+00]]\n",
      "[[0.44119205 0.39654965 0.02172527 0.12934956 0.         0.01118347]\n",
      " [0.34789116 0.11142825 0.38431147 0.12725029 0.         0.02911883]\n",
      " [0.32967742 0.33503878 0.13759292 0.10654045 0.         0.09115043]\n",
      " ...\n",
      " [0.07527765 0.24407673 0.39111929 0.28907334 0.         0.00045299]\n",
      " [0.04539805 0.32767927 0.34573048 0.22478211 0.         0.05641009]\n",
      " [0.09012838 0.23935503 0.38400525 0.26484701 0.         0.02166433]]\n"
     ]
    }
   ],
   "source": [
    "X = np.array(data)[:,0:7]\n",
    "Y = np.array(data)[:,7:13]\n",
    "print(X)\n",
    "print(Y)"
   ]
  },
  {
   "cell_type": "code",
   "execution_count": 6,
   "metadata": {},
   "outputs": [
    {
     "name": "stdout",
     "output_type": "stream",
     "text": [
      "X_train:  (13999, 7)\n",
      "X_test:  (3500, 7)\n",
      "Y_train:  (13999, 6)\n",
      "Y_test:  (3500, 6)\n"
     ]
    }
   ],
   "source": [
    "from sklearn.model_selection import train_test_split\n",
    "X_train, X_test, y_train, y_test = train_test_split(X, Y, test_size=0.2, random_state=42)\n",
    "print(\"X_train: \", X_train.shape)\n",
    "print(\"X_test: \", X_test.shape)\n",
    "print(\"Y_train: \",y_train.shape)\n",
    "print(\"Y_test: \", y_test.shape)\n"
   ]
  },
  {
   "cell_type": "markdown",
   "metadata": {},
   "source": [
    "### Descale Data"
   ]
  },
  {
   "cell_type": "code",
   "execution_count": 7,
   "metadata": {},
   "outputs": [
    {
     "name": "stdout",
     "output_type": "stream",
     "text": [
      "                      0             1         2         3             4  \\\n",
      "Mean       9.456187e+07  1.916577e+07  0.416387  0.627259  2.161469e+06   \n",
      "Median     8.756000e+07  1.369000e+07  0.000000  1.000000  0.000000e+00   \n",
      "Std Dev    5.506793e+07  1.459839e+07  0.492959  0.483534  5.267935e+06   \n",
      "Min Value  3.200000e+06  2.000000e+06  0.000000  0.000000  0.000000e+00   \n",
      "Max Value  1.999660e+08  7.200000e+07  1.000000  1.000000  5.400000e+07   \n",
      "\n",
      "                  5        6  \n",
      "Mean       0.618330  0.73641  \n",
      "Median     1.000000  1.00000  \n",
      "Std Dev    0.485796  0.44058  \n",
      "Min Value  0.000000  0.00000  \n",
      "Max Value  1.000000  1.00000  \n"
     ]
    }
   ],
   "source": [
    "# Tính các giá trị thống kê cơ bản\n",
    "mean = np.mean(X_train, axis=0)\n",
    "median = np.median(X_train, axis=0)\n",
    "std_dev = np.std(X_train, axis=0)\n",
    "min_val = np.min(X_train, axis=0)\n",
    "max_val = np.max(X_train, axis=0)\n",
    "\n",
    "# Tạo DataFrame từ các giá trị thống kê\n",
    "statics_df = pd.DataFrame({\n",
    "    'Mean': mean,\n",
    "    'Median': median,\n",
    "    'Std Dev': std_dev,\n",
    "    'Min Value': min_val,\n",
    "    'Max Value': max_val\n",
    "})\n",
    "\n",
    "# Xếp chúng thành các hàng của các cột\n",
    "statics_transpose = statics_df.transpose()\n",
    "\n",
    "# In DataFrame đã xếp\n",
    "print(statics_transpose)"
   ]
  },
  {
   "cell_type": "code",
   "execution_count": 8,
   "metadata": {},
   "outputs": [],
   "source": [
    "def de_scale(data_scale):\n",
    "    for i in range(len(data_scale)):\n",
    "        data_scale[i] = data_scale[i] * (max_val[i] - min_val[i]) + min_val[i]\n",
    "    return data_scale"
   ]
  },
  {
   "cell_type": "markdown",
   "metadata": {},
   "source": [
    "### Preprocessing Data"
   ]
  },
  {
   "cell_type": "code",
   "execution_count": 9,
   "metadata": {},
   "outputs": [],
   "source": [
    "from sklearn.preprocessing import MinMaxScaler\n",
    "from sklearn.preprocessing import StandardScaler\n",
    "def ScalerData(data):\n",
    "    scaler = MinMaxScaler()\n",
    "    return scaler.fit_transform(data)"
   ]
  },
  {
   "cell_type": "code",
   "execution_count": 10,
   "metadata": {},
   "outputs": [
    {
     "name": "stdout",
     "output_type": "stream",
     "text": [
      "[[0.41516319 0.23328571 0.         ... 0.         1.         1.        ]\n",
      " [0.41450251 0.23928571 1.         ... 0.         1.         1.        ]\n",
      " [0.82259638 0.07814286 0.         ... 0.18518519 1.         1.        ]\n",
      " ...\n",
      " [0.19800169 0.35928571 0.         ... 0.01851852 0.         0.        ]\n",
      " [0.07826555 0.03571429 0.         ... 0.         0.         1.        ]\n",
      " [0.6395668  0.15557143 0.         ... 0.         1.         1.        ]]\n",
      "[[0.0365385  0.02459016 0.         ... 0.         0.         1.        ]\n",
      " [0.43498702 0.51360965 1.         ... 0.         0.         1.        ]\n",
      " [0.35036079 0.60532014 0.         ... 0.         1.         0.        ]\n",
      " ...\n",
      " [0.39374706 0.28348283 0.         ... 0.         1.         1.        ]\n",
      " [0.85868032 0.11042376 1.         ... 0.         1.         1.        ]\n",
      " [0.97255269 0.09712341 1.         ... 0.07843137 0.         1.        ]]\n"
     ]
    }
   ],
   "source": [
    "X_train = ScalerData(X_train)\n",
    "X_test = ScalerData(X_test)\n",
    "print(X_train)\n",
    "print(X_test)"
   ]
  },
  {
   "cell_type": "markdown",
   "metadata": {},
   "source": [
    "### Define model Neural Network"
   ]
  },
  {
   "cell_type": "code",
   "execution_count": 11,
   "metadata": {},
   "outputs": [
    {
     "name": "stderr",
     "output_type": "stream",
     "text": [
      "c:\\Users\\vuong\\AppData\\Local\\Programs\\Python\\Python312\\Lib\\site-packages\\keras\\src\\layers\\core\\dense.py:86: UserWarning: Do not pass an `input_shape`/`input_dim` argument to a layer. When using Sequential models, prefer using an `Input(shape)` object as the first layer in the model instead.\n",
      "  super().__init__(activity_regularizer=activity_regularizer, **kwargs)\n"
     ]
    },
    {
     "data": {
      "text/html": [
       "<pre style=\"white-space:pre;overflow-x:auto;line-height:normal;font-family:Menlo,'DejaVu Sans Mono',consolas,'Courier New',monospace\"><span style=\"font-weight: bold\">Model: \"sequential\"</span>\n",
       "</pre>\n"
      ],
      "text/plain": [
       "\u001b[1mModel: \"sequential\"\u001b[0m\n"
      ]
     },
     "metadata": {},
     "output_type": "display_data"
    },
    {
     "data": {
      "text/html": [
       "<pre style=\"white-space:pre;overflow-x:auto;line-height:normal;font-family:Menlo,'DejaVu Sans Mono',consolas,'Courier New',monospace\">┏━━━━━━━━━━━━━━━━━━━━━━━━━━━━━━━━━┳━━━━━━━━━━━━━━━━━━━━━━━━┳━━━━━━━━━━━━━━━┓\n",
       "┃<span style=\"font-weight: bold\"> Layer (type)                    </span>┃<span style=\"font-weight: bold\"> Output Shape           </span>┃<span style=\"font-weight: bold\">       Param # </span>┃\n",
       "┡━━━━━━━━━━━━━━━━━━━━━━━━━━━━━━━━━╇━━━━━━━━━━━━━━━━━━━━━━━━╇━━━━━━━━━━━━━━━┩\n",
       "│ dense (<span style=\"color: #0087ff; text-decoration-color: #0087ff\">Dense</span>)                   │ (<span style=\"color: #00d7ff; text-decoration-color: #00d7ff\">None</span>, <span style=\"color: #00af00; text-decoration-color: #00af00\">256</span>)            │         <span style=\"color: #00af00; text-decoration-color: #00af00\">2,048</span> │\n",
       "├─────────────────────────────────┼────────────────────────┼───────────────┤\n",
       "│ dense_1 (<span style=\"color: #0087ff; text-decoration-color: #0087ff\">Dense</span>)                 │ (<span style=\"color: #00d7ff; text-decoration-color: #00d7ff\">None</span>, <span style=\"color: #00af00; text-decoration-color: #00af00\">512</span>)            │       <span style=\"color: #00af00; text-decoration-color: #00af00\">131,584</span> │\n",
       "├─────────────────────────────────┼────────────────────────┼───────────────┤\n",
       "│ dense_2 (<span style=\"color: #0087ff; text-decoration-color: #0087ff\">Dense</span>)                 │ (<span style=\"color: #00d7ff; text-decoration-color: #00d7ff\">None</span>, <span style=\"color: #00af00; text-decoration-color: #00af00\">512</span>)            │       <span style=\"color: #00af00; text-decoration-color: #00af00\">262,656</span> │\n",
       "├─────────────────────────────────┼────────────────────────┼───────────────┤\n",
       "│ dense_3 (<span style=\"color: #0087ff; text-decoration-color: #0087ff\">Dense</span>)                 │ (<span style=\"color: #00d7ff; text-decoration-color: #00d7ff\">None</span>, <span style=\"color: #00af00; text-decoration-color: #00af00\">6</span>)              │         <span style=\"color: #00af00; text-decoration-color: #00af00\">3,078</span> │\n",
       "└─────────────────────────────────┴────────────────────────┴───────────────┘\n",
       "</pre>\n"
      ],
      "text/plain": [
       "┏━━━━━━━━━━━━━━━━━━━━━━━━━━━━━━━━━┳━━━━━━━━━━━━━━━━━━━━━━━━┳━━━━━━━━━━━━━━━┓\n",
       "┃\u001b[1m \u001b[0m\u001b[1mLayer (type)                   \u001b[0m\u001b[1m \u001b[0m┃\u001b[1m \u001b[0m\u001b[1mOutput Shape          \u001b[0m\u001b[1m \u001b[0m┃\u001b[1m \u001b[0m\u001b[1m      Param #\u001b[0m\u001b[1m \u001b[0m┃\n",
       "┡━━━━━━━━━━━━━━━━━━━━━━━━━━━━━━━━━╇━━━━━━━━━━━━━━━━━━━━━━━━╇━━━━━━━━━━━━━━━┩\n",
       "│ dense (\u001b[38;5;33mDense\u001b[0m)                   │ (\u001b[38;5;45mNone\u001b[0m, \u001b[38;5;34m256\u001b[0m)            │         \u001b[38;5;34m2,048\u001b[0m │\n",
       "├─────────────────────────────────┼────────────────────────┼───────────────┤\n",
       "│ dense_1 (\u001b[38;5;33mDense\u001b[0m)                 │ (\u001b[38;5;45mNone\u001b[0m, \u001b[38;5;34m512\u001b[0m)            │       \u001b[38;5;34m131,584\u001b[0m │\n",
       "├─────────────────────────────────┼────────────────────────┼───────────────┤\n",
       "│ dense_2 (\u001b[38;5;33mDense\u001b[0m)                 │ (\u001b[38;5;45mNone\u001b[0m, \u001b[38;5;34m512\u001b[0m)            │       \u001b[38;5;34m262,656\u001b[0m │\n",
       "├─────────────────────────────────┼────────────────────────┼───────────────┤\n",
       "│ dense_3 (\u001b[38;5;33mDense\u001b[0m)                 │ (\u001b[38;5;45mNone\u001b[0m, \u001b[38;5;34m6\u001b[0m)              │         \u001b[38;5;34m3,078\u001b[0m │\n",
       "└─────────────────────────────────┴────────────────────────┴───────────────┘\n"
      ]
     },
     "metadata": {},
     "output_type": "display_data"
    },
    {
     "data": {
      "text/html": [
       "<pre style=\"white-space:pre;overflow-x:auto;line-height:normal;font-family:Menlo,'DejaVu Sans Mono',consolas,'Courier New',monospace\"><span style=\"font-weight: bold\"> Total params: </span><span style=\"color: #00af00; text-decoration-color: #00af00\">399,366</span> (1.52 MB)\n",
       "</pre>\n"
      ],
      "text/plain": [
       "\u001b[1m Total params: \u001b[0m\u001b[38;5;34m399,366\u001b[0m (1.52 MB)\n"
      ]
     },
     "metadata": {},
     "output_type": "display_data"
    },
    {
     "data": {
      "text/html": [
       "<pre style=\"white-space:pre;overflow-x:auto;line-height:normal;font-family:Menlo,'DejaVu Sans Mono',consolas,'Courier New',monospace\"><span style=\"font-weight: bold\"> Trainable params: </span><span style=\"color: #00af00; text-decoration-color: #00af00\">399,366</span> (1.52 MB)\n",
       "</pre>\n"
      ],
      "text/plain": [
       "\u001b[1m Trainable params: \u001b[0m\u001b[38;5;34m399,366\u001b[0m (1.52 MB)\n"
      ]
     },
     "metadata": {},
     "output_type": "display_data"
    },
    {
     "data": {
      "text/html": [
       "<pre style=\"white-space:pre;overflow-x:auto;line-height:normal;font-family:Menlo,'DejaVu Sans Mono',consolas,'Courier New',monospace\"><span style=\"font-weight: bold\"> Non-trainable params: </span><span style=\"color: #00af00; text-decoration-color: #00af00\">0</span> (0.00 B)\n",
       "</pre>\n"
      ],
      "text/plain": [
       "\u001b[1m Non-trainable params: \u001b[0m\u001b[38;5;34m0\u001b[0m (0.00 B)\n"
      ]
     },
     "metadata": {},
     "output_type": "display_data"
    }
   ],
   "source": [
    "from keras.models import Sequential\n",
    "from keras.layers import Dense\n",
    "from keras.optimizers import Adamax\n",
    "\n",
    "def define_model():\n",
    "    model = Sequential()\n",
    "    \n",
    "    # Layer 1\n",
    "    model.add(Dense(256, input_dim=7, activation='relu'))\n",
    "    \n",
    "    # Layer 2\n",
    "    model.add(Dense(512, activation='relu'))\n",
    "    \n",
    "    # Layer 3\n",
    "    model.add(Dense(512, activation='relu'))\n",
    "\n",
    "    # Layer 4\n",
    "    model.add(Dense(6, activation='relu'))\n",
    "    \n",
    "    optimizer = Adamax(learning_rate=0.001)\n",
    "    model.compile(optimizer=optimizer, loss='mean_squared_error')\n",
    "    \n",
    "    return model\n",
    "\n",
    "model = define_model()\n",
    "model.summary()\n"
   ]
  },
  {
   "cell_type": "code",
   "execution_count": 12,
   "metadata": {},
   "outputs": [],
   "source": [
    "from sklearn.ensemble import RandomForestRegressor\n",
    "def define_model_2():\n",
    "    model = RandomForestRegressor(n_estimators=100, random_state=42)\n",
    "    return model"
   ]
  },
  {
   "cell_type": "markdown",
   "metadata": {},
   "source": [
    "### Train Model"
   ]
  },
  {
   "cell_type": "code",
   "execution_count": 13,
   "metadata": {},
   "outputs": [],
   "source": [
    "import matplotlib.pyplot as plt\n",
    "\n",
    "def train_and_plot_loss():\n",
    "    model = define_model()\n",
    "    history = model.fit(X_train, y_train, epochs=32, batch_size=8, validation_split=0.1, shuffle=True ,verbose=1)\n",
    "    model.save('final_model.h5')\n",
    "    \n",
    "    # Lấy giá trị loss từ lịch sử huấn luyện\n",
    "    train_loss = history.history['loss']\n",
    "    val_loss = history.history['val_loss']\n",
    "    \n",
    "    # Vẽ biểu đồ loss của cả hai tập train và validation\n",
    "    epochs = range(1, len(train_loss) + 1)\n",
    "    plt.plot(epochs, train_loss, 'b', label='Training loss')  # Đường liên tục màu xanh\n",
    "    plt.plot(epochs, val_loss, 'r', label='Validation loss')  # Đường liên tục màu đỏ\n",
    "    plt.title('Training and validation loss')\n",
    "    plt.xlabel('Epochs')\n",
    "    plt.ylabel('Loss')\n",
    "    plt.legend()\n",
    "    plt.show()"
   ]
  },
  {
   "cell_type": "markdown",
   "metadata": {},
   "source": [
    "### Random Forest"
   ]
  },
  {
   "cell_type": "code",
   "execution_count": 14,
   "metadata": {},
   "outputs": [],
   "source": [
    "import joblib\n",
    "def train2():\n",
    "    model2 = define_model_2()\n",
    "    model2.fit(X_train, y_train)\n",
    "    joblib.dump(model2, 'random_forest_model.pkl')\n"
   ]
  },
  {
   "cell_type": "markdown",
   "metadata": {},
   "source": [
    "### Train Model"
   ]
  },
  {
   "cell_type": "code",
   "execution_count": 15,
   "metadata": {},
   "outputs": [],
   "source": [
    "train2()"
   ]
  },
  {
   "cell_type": "code",
   "execution_count": 16,
   "metadata": {},
   "outputs": [
    {
     "name": "stdout",
     "output_type": "stream",
     "text": [
      "Epoch 1/32\n"
     ]
    },
    {
     "name": "stderr",
     "output_type": "stream",
     "text": [
      "c:\\Users\\vuong\\AppData\\Local\\Programs\\Python\\Python312\\Lib\\site-packages\\keras\\src\\layers\\core\\dense.py:86: UserWarning: Do not pass an `input_shape`/`input_dim` argument to a layer. When using Sequential models, prefer using an `Input(shape)` object as the first layer in the model instead.\n",
      "  super().__init__(activity_regularizer=activity_regularizer, **kwargs)\n"
     ]
    },
    {
     "name": "stdout",
     "output_type": "stream",
     "text": [
      "\u001b[1m1575/1575\u001b[0m \u001b[32m━━━━━━━━━━━━━━━━━━━━\u001b[0m\u001b[37m\u001b[0m \u001b[1m4s\u001b[0m 2ms/step - loss: 0.0048 - val_loss: 0.0020\n",
      "Epoch 2/32\n",
      "\u001b[1m1575/1575\u001b[0m \u001b[32m━━━━━━━━━━━━━━━━━━━━\u001b[0m\u001b[37m\u001b[0m \u001b[1m5s\u001b[0m 3ms/step - loss: 0.0021 - val_loss: 0.0019\n",
      "Epoch 3/32\n",
      "\u001b[1m1575/1575\u001b[0m \u001b[32m━━━━━━━━━━━━━━━━━━━━\u001b[0m\u001b[37m\u001b[0m \u001b[1m4s\u001b[0m 3ms/step - loss: 0.0018 - val_loss: 0.0018\n",
      "Epoch 4/32\n",
      "\u001b[1m1575/1575\u001b[0m \u001b[32m━━━━━━━━━━━━━━━━━━━━\u001b[0m\u001b[37m\u001b[0m \u001b[1m4s\u001b[0m 3ms/step - loss: 0.0017 - val_loss: 0.0017\n",
      "Epoch 5/32\n",
      "\u001b[1m1575/1575\u001b[0m \u001b[32m━━━━━━━━━━━━━━━━━━━━\u001b[0m\u001b[37m\u001b[0m \u001b[1m4s\u001b[0m 2ms/step - loss: 0.0017 - val_loss: 0.0017\n",
      "Epoch 6/32\n",
      "\u001b[1m1575/1575\u001b[0m \u001b[32m━━━━━━━━━━━━━━━━━━━━\u001b[0m\u001b[37m\u001b[0m \u001b[1m3s\u001b[0m 2ms/step - loss: 0.0017 - val_loss: 0.0017\n",
      "Epoch 7/32\n",
      "\u001b[1m1575/1575\u001b[0m \u001b[32m━━━━━━━━━━━━━━━━━━━━\u001b[0m\u001b[37m\u001b[0m \u001b[1m3s\u001b[0m 2ms/step - loss: 0.0017 - val_loss: 0.0016\n",
      "Epoch 8/32\n",
      "\u001b[1m1575/1575\u001b[0m \u001b[32m━━━━━━━━━━━━━━━━━━━━\u001b[0m\u001b[37m\u001b[0m \u001b[1m4s\u001b[0m 2ms/step - loss: 0.0016 - val_loss: 0.0016\n",
      "Epoch 9/32\n",
      "\u001b[1m1575/1575\u001b[0m \u001b[32m━━━━━━━━━━━━━━━━━━━━\u001b[0m\u001b[37m\u001b[0m \u001b[1m5s\u001b[0m 3ms/step - loss: 0.0016 - val_loss: 0.0016\n",
      "Epoch 10/32\n",
      "\u001b[1m1575/1575\u001b[0m \u001b[32m━━━━━━━━━━━━━━━━━━━━\u001b[0m\u001b[37m\u001b[0m \u001b[1m5s\u001b[0m 3ms/step - loss: 0.0017 - val_loss: 0.0017\n",
      "Epoch 11/32\n",
      "\u001b[1m1575/1575\u001b[0m \u001b[32m━━━━━━━━━━━━━━━━━━━━\u001b[0m\u001b[37m\u001b[0m \u001b[1m5s\u001b[0m 3ms/step - loss: 0.0016 - val_loss: 0.0017\n",
      "Epoch 12/32\n",
      "\u001b[1m1575/1575\u001b[0m \u001b[32m━━━━━━━━━━━━━━━━━━━━\u001b[0m\u001b[37m\u001b[0m \u001b[1m5s\u001b[0m 3ms/step - loss: 0.0017 - val_loss: 0.0017\n",
      "Epoch 13/32\n",
      "\u001b[1m1575/1575\u001b[0m \u001b[32m━━━━━━━━━━━━━━━━━━━━\u001b[0m\u001b[37m\u001b[0m \u001b[1m5s\u001b[0m 3ms/step - loss: 0.0016 - val_loss: 0.0016\n",
      "Epoch 14/32\n",
      "\u001b[1m1575/1575\u001b[0m \u001b[32m━━━━━━━━━━━━━━━━━━━━\u001b[0m\u001b[37m\u001b[0m \u001b[1m5s\u001b[0m 3ms/step - loss: 0.0016 - val_loss: 0.0016\n",
      "Epoch 15/32\n",
      "\u001b[1m1575/1575\u001b[0m \u001b[32m━━━━━━━━━━━━━━━━━━━━\u001b[0m\u001b[37m\u001b[0m \u001b[1m5s\u001b[0m 3ms/step - loss: 0.0016 - val_loss: 0.0016\n",
      "Epoch 16/32\n",
      "\u001b[1m1575/1575\u001b[0m \u001b[32m━━━━━━━━━━━━━━━━━━━━\u001b[0m\u001b[37m\u001b[0m \u001b[1m5s\u001b[0m 3ms/step - loss: 0.0016 - val_loss: 0.0016\n",
      "Epoch 17/32\n",
      "\u001b[1m1575/1575\u001b[0m \u001b[32m━━━━━━━━━━━━━━━━━━━━\u001b[0m\u001b[37m\u001b[0m \u001b[1m5s\u001b[0m 3ms/step - loss: 0.0016 - val_loss: 0.0016\n",
      "Epoch 18/32\n",
      "\u001b[1m1575/1575\u001b[0m \u001b[32m━━━━━━━━━━━━━━━━━━━━\u001b[0m\u001b[37m\u001b[0m \u001b[1m5s\u001b[0m 3ms/step - loss: 0.0016 - val_loss: 0.0016\n",
      "Epoch 19/32\n",
      "\u001b[1m1575/1575\u001b[0m \u001b[32m━━━━━━━━━━━━━━━━━━━━\u001b[0m\u001b[37m\u001b[0m \u001b[1m5s\u001b[0m 3ms/step - loss: 0.0016 - val_loss: 0.0016\n",
      "Epoch 20/32\n",
      "\u001b[1m1575/1575\u001b[0m \u001b[32m━━━━━━━━━━━━━━━━━━━━\u001b[0m\u001b[37m\u001b[0m \u001b[1m5s\u001b[0m 3ms/step - loss: 0.0016 - val_loss: 0.0017\n",
      "Epoch 21/32\n",
      "\u001b[1m1575/1575\u001b[0m \u001b[32m━━━━━━━━━━━━━━━━━━━━\u001b[0m\u001b[37m\u001b[0m \u001b[1m5s\u001b[0m 3ms/step - loss: 0.0016 - val_loss: 0.0016\n",
      "Epoch 22/32\n",
      "\u001b[1m1575/1575\u001b[0m \u001b[32m━━━━━━━━━━━━━━━━━━━━\u001b[0m\u001b[37m\u001b[0m \u001b[1m4s\u001b[0m 3ms/step - loss: 0.0016 - val_loss: 0.0016\n",
      "Epoch 23/32\n",
      "\u001b[1m1575/1575\u001b[0m \u001b[32m━━━━━━━━━━━━━━━━━━━━\u001b[0m\u001b[37m\u001b[0m \u001b[1m5s\u001b[0m 3ms/step - loss: 0.0016 - val_loss: 0.0016\n",
      "Epoch 24/32\n",
      "\u001b[1m1575/1575\u001b[0m \u001b[32m━━━━━━━━━━━━━━━━━━━━\u001b[0m\u001b[37m\u001b[0m \u001b[1m5s\u001b[0m 3ms/step - loss: 0.0015 - val_loss: 0.0016\n",
      "Epoch 25/32\n",
      "\u001b[1m1575/1575\u001b[0m \u001b[32m━━━━━━━━━━━━━━━━━━━━\u001b[0m\u001b[37m\u001b[0m \u001b[1m4s\u001b[0m 3ms/step - loss: 0.0016 - val_loss: 0.0016\n",
      "Epoch 26/32\n",
      "\u001b[1m1575/1575\u001b[0m \u001b[32m━━━━━━━━━━━━━━━━━━━━\u001b[0m\u001b[37m\u001b[0m \u001b[1m5s\u001b[0m 3ms/step - loss: 0.0016 - val_loss: 0.0017\n",
      "Epoch 27/32\n",
      "\u001b[1m1575/1575\u001b[0m \u001b[32m━━━━━━━━━━━━━━━━━━━━\u001b[0m\u001b[37m\u001b[0m \u001b[1m4s\u001b[0m 3ms/step - loss: 0.0016 - val_loss: 0.0016\n",
      "Epoch 28/32\n",
      "\u001b[1m1575/1575\u001b[0m \u001b[32m━━━━━━━━━━━━━━━━━━━━\u001b[0m\u001b[37m\u001b[0m \u001b[1m5s\u001b[0m 3ms/step - loss: 0.0016 - val_loss: 0.0016\n",
      "Epoch 29/32\n",
      "\u001b[1m1575/1575\u001b[0m \u001b[32m━━━━━━━━━━━━━━━━━━━━\u001b[0m\u001b[37m\u001b[0m \u001b[1m4s\u001b[0m 3ms/step - loss: 0.0016 - val_loss: 0.0016\n",
      "Epoch 30/32\n",
      "\u001b[1m1575/1575\u001b[0m \u001b[32m━━━━━━━━━━━━━━━━━━━━\u001b[0m\u001b[37m\u001b[0m \u001b[1m5s\u001b[0m 3ms/step - loss: 0.0016 - val_loss: 0.0016\n",
      "Epoch 31/32\n",
      "\u001b[1m1575/1575\u001b[0m \u001b[32m━━━━━━━━━━━━━━━━━━━━\u001b[0m\u001b[37m\u001b[0m \u001b[1m5s\u001b[0m 3ms/step - loss: 0.0016 - val_loss: 0.0016\n",
      "Epoch 32/32\n",
      "\u001b[1m1575/1575\u001b[0m \u001b[32m━━━━━━━━━━━━━━━━━━━━\u001b[0m\u001b[37m\u001b[0m \u001b[1m4s\u001b[0m 3ms/step - loss: 0.0016 - val_loss: 0.0016\n"
     ]
    },
    {
     "name": "stderr",
     "output_type": "stream",
     "text": [
      "WARNING:absl:You are saving your model as an HDF5 file via `model.save()` or `keras.saving.save_model(model)`. This file format is considered legacy. We recommend using instead the native Keras format, e.g. `model.save('my_model.keras')` or `keras.saving.save_model(model, 'my_model.keras')`. \n"
     ]
    },
    {
     "data": {
      "image/png": "[encoded data removed]",
      "text/plain": [
       "<Figure size 640x480 with 1 Axes>"
      ]
     },
     "metadata": {},
     "output_type": "display_data"
    }
   ],
   "source": [
    "train_and_plot_loss()"
   ]
  },
  {
   "cell_type": "markdown",
   "metadata": {},
   "source": [
    "### Dự đoán và đánh giá theo R^2 score"
   ]
  },
  {
   "cell_type": "code",
   "execution_count": 17,
   "metadata": {},
   "outputs": [
    {
     "name": "stderr",
     "output_type": "stream",
     "text": [
      "WARNING:absl:Compiled the loaded model, but the compiled metrics have yet to be built. `model.compile_metrics` will be empty until you train or evaluate the model.\n"
     ]
    },
    {
     "name": "stdout",
     "output_type": "stream",
     "text": [
      "\u001b[1m110/110\u001b[0m \u001b[32m━━━━━━━━━━━━━━━━━━━━\u001b[0m\u001b[37m\u001b[0m \u001b[1m0s\u001b[0m 1ms/step\n"
     ]
    }
   ],
   "source": [
    "import sys\n",
    "import os\n",
    "from sklearn.metrics import r2_score\n",
    "\n",
    "# Load model\n",
    "model = load_model(\"final_model.h5\")\n",
    "model2 = joblib.load('random_forest_model.pkl')\n",
    "\n",
    "# Tính toán R-squared\n",
    "predict_1 = model.predict(X_test)\n",
    "r_squared_1 = r2_score(y_test, predict_1)\n",
    "\n",
    "predict_2 = model2.predict(X_test)\n",
    "r_squared_2 = r2_score(y_test, predict_2)\n",
    "\n"
   ]
  },
  {
   "cell_type": "markdown",
   "metadata": {},
   "source": [
    "### Đưa ra ouput\n",
    "\n",
    "(a) Chi tiêu cố định: Tương ứng số tiền chi tiêu phục vụ cho nhu cầu chi tiêu cần thiết như tiền thuê nhà; tiền điện, nước; tiền ăn uống; xăng xe hoặc vé xe; tiền internet và điện thoại; …. Đảm bảo cho việc chi trả các khoản chi phí cần thiết thường ngày.\n",
    "\n",
    "(b) Tiết kiệm: Tương ứng với số tiền chi tiêu phục vụ cho nhu cầu tiết kiệm và đầu tư như: tiết kiệm hưu trí, đầu tư cổ phiếu hoặc quỹ, những khoản chi tiêu lớn như mua nhà, mua xe, … \n",
    "\n",
    "(c) Bản thân: Tương ứng với số tiền chi tiêu phục vụ cho các hoạt động vui chơi, giải trí, thể thao, du lịch, mua sắm, đi ăn ngoài, nhà hàng, xem phim, …\n",
    "\n",
    "(d) Giáo dục: Tương ứng với số tiền chi tiêu phục vụ cho mục tiêu giáo dục và phát triển bản thân: các khóa học; sách vở, tài liệu học tập; tham gia hội thảo, workshop; các khóa đào tạo nghề nghiệp hoặc kỹ năng mới, ...\n",
    "\n",
    "(e) Thanh toán nợ: Tương ứng với số tiền chi tiêu phục vụ cho việc thanh toán các khoản vay nợ cần phải trả\n",
    "\n",
    "(f) Khác: Tương ứng với số tiền chi tiêu phục vụ cho nhu cầu khác như: từ thiện, y tế, quà cáp, bảo trì, sửa chữa thiết bị, thú cưng và một số khoản chi tiêu phát sinh khác. \n"
   ]
  },
  {
   "cell_type": "code",
   "execution_count": 18,
   "metadata": {},
   "outputs": [
    {
     "data": {
      "text/html": [
       "<div>\n",
       "<style scoped>\n",
       "    .dataframe tbody tr th:only-of-type {\n",
       "        vertical-align: middle;\n",
       "    }\n",
       "\n",
       "    .dataframe tbody tr th {\n",
       "        vertical-align: top;\n",
       "    }\n",
       "\n",
       "    .dataframe thead th {\n",
       "        text-align: right;\n",
       "    }\n",
       "</style>\n",
       "<table border=\"1\" class=\"dataframe\">\n",
       "  <thead>\n",
       "    <tr style=\"text-align: right;\">\n",
       "      <th></th>\n",
       "      <th>thu nhập</th>\n",
       "      <th>cố định</th>\n",
       "      <th>nhu cầu</th>\n",
       "      <th>giáo dục</th>\n",
       "      <th>thanh toán nợ</th>\n",
       "      <th>tiết kiệm</th>\n",
       "      <th>bản thân</th>\n",
       "      <th>a</th>\n",
       "      <th>b</th>\n",
       "      <th>c</th>\n",
       "      <th>d</th>\n",
       "      <th>e</th>\n",
       "      <th>f</th>\n",
       "    </tr>\n",
       "  </thead>\n",
       "  <tbody>\n",
       "    <tr>\n",
       "      <th>0</th>\n",
       "      <td>167663371</td>\n",
       "      <td>9794618</td>\n",
       "      <td>0</td>\n",
       "      <td>0</td>\n",
       "      <td>0</td>\n",
       "      <td>1</td>\n",
       "      <td>1</td>\n",
       "      <td>12484312</td>\n",
       "      <td>49835819</td>\n",
       "      <td>48614156</td>\n",
       "      <td>47494503</td>\n",
       "      <td>0</td>\n",
       "      <td>8866023</td>\n",
       "    </tr>\n",
       "    <tr>\n",
       "      <th>1</th>\n",
       "      <td>174196295</td>\n",
       "      <td>13767708</td>\n",
       "      <td>1</td>\n",
       "      <td>1</td>\n",
       "      <td>0</td>\n",
       "      <td>0</td>\n",
       "      <td>1</td>\n",
       "      <td>16484901</td>\n",
       "      <td>21580748</td>\n",
       "      <td>61467061</td>\n",
       "      <td>61155963</td>\n",
       "      <td>0</td>\n",
       "      <td>11570461</td>\n",
       "    </tr>\n",
       "    <tr>\n",
       "      <th>2</th>\n",
       "      <td>135042994</td>\n",
       "      <td>6795855</td>\n",
       "      <td>1</td>\n",
       "      <td>1</td>\n",
       "      <td>0</td>\n",
       "      <td>0</td>\n",
       "      <td>1</td>\n",
       "      <td>9124150</td>\n",
       "      <td>16545375</td>\n",
       "      <td>49058205</td>\n",
       "      <td>49310080</td>\n",
       "      <td>0</td>\n",
       "      <td>10050786</td>\n",
       "    </tr>\n",
       "    <tr>\n",
       "      <th>3</th>\n",
       "      <td>195478323</td>\n",
       "      <td>8398082</td>\n",
       "      <td>0</td>\n",
       "      <td>0</td>\n",
       "      <td>8470588</td>\n",
       "      <td>0</td>\n",
       "      <td>1</td>\n",
       "      <td>11418793</td>\n",
       "      <td>22542631</td>\n",
       "      <td>70168165</td>\n",
       "      <td>68165753</td>\n",
       "      <td>8725199</td>\n",
       "      <td>13984615</td>\n",
       "    </tr>\n",
       "    <tr>\n",
       "      <th>4</th>\n",
       "      <td>199361677</td>\n",
       "      <td>10335911</td>\n",
       "      <td>0</td>\n",
       "      <td>1</td>\n",
       "      <td>0</td>\n",
       "      <td>1</td>\n",
       "      <td>1</td>\n",
       "      <td>13460421</td>\n",
       "      <td>58087983</td>\n",
       "      <td>58875996</td>\n",
       "      <td>57846505</td>\n",
       "      <td>0</td>\n",
       "      <td>9841465</td>\n",
       "    </tr>\n",
       "    <tr>\n",
       "      <th>5</th>\n",
       "      <td>135779041</td>\n",
       "      <td>9653882</td>\n",
       "      <td>0</td>\n",
       "      <td>0</td>\n",
       "      <td>0</td>\n",
       "      <td>0</td>\n",
       "      <td>1</td>\n",
       "      <td>11626419</td>\n",
       "      <td>16220660</td>\n",
       "      <td>49226965</td>\n",
       "      <td>49311602</td>\n",
       "      <td>0</td>\n",
       "      <td>9042143</td>\n",
       "    </tr>\n",
       "    <tr>\n",
       "      <th>6</th>\n",
       "      <td>188641729</td>\n",
       "      <td>6460254</td>\n",
       "      <td>0</td>\n",
       "      <td>1</td>\n",
       "      <td>0</td>\n",
       "      <td>0</td>\n",
       "      <td>1</td>\n",
       "      <td>9661352</td>\n",
       "      <td>25061805</td>\n",
       "      <td>69184917</td>\n",
       "      <td>69067496</td>\n",
       "      <td>0</td>\n",
       "      <td>14272238</td>\n",
       "    </tr>\n",
       "    <tr>\n",
       "      <th>7</th>\n",
       "      <td>191322470</td>\n",
       "      <td>13648624</td>\n",
       "      <td>0</td>\n",
       "      <td>0</td>\n",
       "      <td>8470588</td>\n",
       "      <td>0</td>\n",
       "      <td>1</td>\n",
       "      <td>16768906</td>\n",
       "      <td>20969751</td>\n",
       "      <td>66787645</td>\n",
       "      <td>64672748</td>\n",
       "      <td>7975419</td>\n",
       "      <td>12561675</td>\n",
       "    </tr>\n",
       "    <tr>\n",
       "      <th>8</th>\n",
       "      <td>147732774</td>\n",
       "      <td>8224869</td>\n",
       "      <td>0</td>\n",
       "      <td>1</td>\n",
       "      <td>0</td>\n",
       "      <td>0</td>\n",
       "      <td>1</td>\n",
       "      <td>10773952</td>\n",
       "      <td>18326346</td>\n",
       "      <td>53604702</td>\n",
       "      <td>53618276</td>\n",
       "      <td>0</td>\n",
       "      <td>10394710</td>\n",
       "    </tr>\n",
       "    <tr>\n",
       "      <th>9</th>\n",
       "      <td>171032899</td>\n",
       "      <td>12468605</td>\n",
       "      <td>0</td>\n",
       "      <td>1</td>\n",
       "      <td>0</td>\n",
       "      <td>0</td>\n",
       "      <td>1</td>\n",
       "      <td>15102532</td>\n",
       "      <td>20995591</td>\n",
       "      <td>61016131</td>\n",
       "      <td>60643166</td>\n",
       "      <td>0</td>\n",
       "      <td>12023619</td>\n",
       "    </tr>\n",
       "  </tbody>\n",
       "</table>\n",
       "</div>"
      ],
      "text/plain": [
       "   thu nhập  cố định  nhu cầu  giáo dục  thanh toán nợ  tiết kiệm  bản thân  \\\n",
       "0 167663371  9794618        0         0              0          1         1   \n",
       "1 174196295 13767708        1         1              0          0         1   \n",
       "2 135042994  6795855        1         1              0          0         1   \n",
       "3 195478323  8398082        0         0        8470588          0         1   \n",
       "4 199361677 10335911        0         1              0          1         1   \n",
       "5 135779041  9653882        0         0              0          0         1   \n",
       "6 188641729  6460254        0         1              0          0         1   \n",
       "7 191322470 13648624        0         0        8470588          0         1   \n",
       "8 147732774  8224869        0         1              0          0         1   \n",
       "9 171032899 12468605        0         1              0          0         1   \n",
       "\n",
       "         a        b        c        d       e        f  \n",
       "0 12484312 49835819 48614156 47494503       0  8866023  \n",
       "1 16484901 21580748 61467061 61155963       0 11570461  \n",
       "2  9124150 16545375 49058205 49310080       0 10050786  \n",
       "3 11418793 22542631 70168165 68165753 8725199 13984615  \n",
       "4 13460421 58087983 58875996 57846505       0  9841465  \n",
       "5 11626419 16220660 49226965 49311602       0  9042143  \n",
       "6  9661352 25061805 69184917 69067496       0 14272238  \n",
       "7 16768906 20969751 66787645 64672748 7975419 12561675  \n",
       "8 10773952 18326346 53604702 53618276       0 10394710  \n",
       "9 15102532 20995591 61016131 60643166       0 12023619  "
      ]
     },
     "execution_count": 18,
     "metadata": {},
     "output_type": "execute_result"
    }
   ],
   "source": [
    "# Tính MSE cho từng mẫu\n",
    "mse_scores = []\n",
    "for i in range(len(X_test)):\n",
    "    mse = mean_squared_error([y_test[i]], [predict_1[i]])\n",
    "    mse_scores.append(mse)\n",
    "\n",
    "# Chuyển đổi thành mảng numpy để dễ dàng thao tác\n",
    "mse_scores = np.array(mse_scores)\n",
    "# Tạo output_matrix để xuất lưu giữ giá trị dự đoán\n",
    "output_matrix = []\n",
    "# Sắp xếp và chọn các mẫu có MSE thấp nhất\n",
    "# Giả sử bạn muốn chọn 10 mẫu có MSE thấp nhất\n",
    "top_n = 10\n",
    "top_indices = np.argsort(mse_scores)[:top_n]\n",
    "\n",
    "# Lưu các mẫu có MSE thấp nhất và các X_test tương ứng\n",
    "top_samples = []\n",
    "top_X_test = []\n",
    "for idx in top_indices:\n",
    "    top_samples.append({\n",
    "        \"Sample_index\": idx,\n",
    "        \"True_value\": y_test[idx],\n",
    "        \"Predicted_value\": predict_1[idx],\n",
    "        \"MSE\": mse_scores[idx]\n",
    "    })\n",
    "    top_X_test.append(X_test[idx])\n",
    "    temp = []\n",
    "    for item in de_scale(X_test[idx]):\n",
    "        temp.append(item)\n",
    "    for item in predict_1[idx]:\n",
    "        temp.append(item *temp[0])\n",
    "    output_matrix.append(temp)\n",
    "\n",
    "df = pd.DataFrame(output_matrix, columns=[\"thu nhập\",\t\"cố định\",\t\"nhu cầu\",\t\"giáo dục\", \"thanh toán nợ\",\n",
    "                                      \t\"tiết kiệm\",\t\"bản thân\",\t\"a\",\t\"b\",\t\"c\",\t\"d\",\t\"e\",\t\"f\"])\n",
    "df = df.round()\n",
    "pd.set_option('display.float_format', '{:.0f}'.format)\n",
    "df\n",
    "\n"
   ]
  },
  {
   "cell_type": "markdown",
   "metadata": {},
   "source": []
  }
 ],
 "metadata": {
  "kernelspec": {
   "display_name": "gpu_onion",
   "language": "python",
   "name": "python3"
  },
  "language_info": {
   "codemirror_mode": {
    "name": "ipython",
    "version": 3
   },
   "file_extension": ".py",
   "mimetype": "text/x-python",
   "name": "python",
   "nbconvert_exporter": "python",
   "pygments_lexer": "ipython3",
   "version": "3.12.3"
  }
 },
 "nbformat": 4,
 "nbformat_minor": 2
}
