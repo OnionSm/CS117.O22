{
 "cells": [
  {
   "cell_type": "markdown",
   "metadata": {},
   "source": [
    "## Mô hình dự đoán quản lý chi tiêu \n",
    "\n",
    "Thông tin thành viên\n",
    "| MSSV     | Họ và Tên        | Email                   |\n",
    "|----------|------------------|-------------------------|\n",
    "| 22520033 | Trương Huỳnh Thúy An | 22520033@gm.uit.edu.vn |\n",
    "| 22520083 | Trịnh Thị Lan Anh  | 22520083@gm.uit.edu.vn |\n",
    "| 22520148 | Huỳnh Thị Hải Châu  | 22520148@gm.uit.edu.vn |\n",
    "| 22520363 | Lê Văn Giáp    | 22520363@gm.uit.edu.vn |\n",
    "| 22520375 | Vương Dương Thái Hà | 22520375@gm.uit.edu.vn |\n"
   ]
  },
  {
   "cell_type": "markdown",
   "metadata": {},
   "source": [
    "### Import Libraray"
   ]
  },
  {
   "cell_type": "code",
   "execution_count": 1,
   "metadata": {},
   "outputs": [],
   "source": [
    "import tensorflow as tf\n",
    "import numpy as np\n",
    "import pandas as pd\n",
    "from sklearn.datasets import make_regression\n",
    "from sklearn.metrics import mean_squared_error\n",
    "from tensorflow.keras.models import Sequential\n",
    "from tensorflow.keras.layers import Dense   \n",
    "from tensorflow.keras.models import load_model"
   ]
  },
  {
   "cell_type": "code",
   "execution_count": 2,
   "metadata": {},
   "outputs": [
    {
     "data": {
      "text/html": [
       "<div>\n",
       "<style scoped>\n",
       "    .dataframe tbody tr th:only-of-type {\n",
       "        vertical-align: middle;\n",
       "    }\n",
       "\n",
       "    .dataframe tbody tr th {\n",
       "        vertical-align: top;\n",
       "    }\n",
       "\n",
       "    .dataframe thead th {\n",
       "        text-align: right;\n",
       "    }\n",
       "</style>\n",
       "<table border=\"1\" class=\"dataframe\">\n",
       "  <thead>\n",
       "    <tr style=\"text-align: right;\">\n",
       "      <th></th>\n",
       "      <th>Thu nh?p</th>\n",
       "      <th>C? ??nh</th>\n",
       "      <th>Nhu c?u</th>\n",
       "      <th>Giáo d?c</th>\n",
       "      <th>Thanh toán n?</th>\n",
       "      <th>Ti?t ki?m</th>\n",
       "      <th>B?n thân</th>\n",
       "      <th>a</th>\n",
       "      <th>b</th>\n",
       "      <th>c</th>\n",
       "      <th>d</th>\n",
       "      <th>e</th>\n",
       "      <th>f</th>\n",
       "    </tr>\n",
       "  </thead>\n",
       "  <tbody>\n",
       "    <tr>\n",
       "      <th>0</th>\n",
       "      <td>7550000.0</td>\n",
       "      <td>3180000.0</td>\n",
       "      <td>0.0</td>\n",
       "      <td>1.0</td>\n",
       "      <td>0.0</td>\n",
       "      <td>1.0</td>\n",
       "      <td>0.0</td>\n",
       "      <td>0.441192</td>\n",
       "      <td>0.396550</td>\n",
       "      <td>0.021725</td>\n",
       "      <td>0.129350</td>\n",
       "      <td>0.000000</td>\n",
       "      <td>0.011183</td>\n",
       "    </tr>\n",
       "    <tr>\n",
       "      <th>1</th>\n",
       "      <td>7350000.0</td>\n",
       "      <td>2410000.0</td>\n",
       "      <td>0.0</td>\n",
       "      <td>1.0</td>\n",
       "      <td>0.0</td>\n",
       "      <td>0.0</td>\n",
       "      <td>1.0</td>\n",
       "      <td>0.347891</td>\n",
       "      <td>0.111428</td>\n",
       "      <td>0.384311</td>\n",
       "      <td>0.127250</td>\n",
       "      <td>0.000000</td>\n",
       "      <td>0.029119</td>\n",
       "    </tr>\n",
       "    <tr>\n",
       "      <th>2</th>\n",
       "      <td>7750000.0</td>\n",
       "      <td>2400000.0</td>\n",
       "      <td>0.0</td>\n",
       "      <td>0.0</td>\n",
       "      <td>0.0</td>\n",
       "      <td>1.0</td>\n",
       "      <td>0.0</td>\n",
       "      <td>0.329677</td>\n",
       "      <td>0.335039</td>\n",
       "      <td>0.137593</td>\n",
       "      <td>0.106540</td>\n",
       "      <td>0.000000</td>\n",
       "      <td>0.091150</td>\n",
       "    </tr>\n",
       "    <tr>\n",
       "      <th>3</th>\n",
       "      <td>7250000.0</td>\n",
       "      <td>3420000.0</td>\n",
       "      <td>0.0</td>\n",
       "      <td>1.0</td>\n",
       "      <td>0.0</td>\n",
       "      <td>1.0</td>\n",
       "      <td>0.0</td>\n",
       "      <td>0.491724</td>\n",
       "      <td>0.334125</td>\n",
       "      <td>0.024972</td>\n",
       "      <td>0.098846</td>\n",
       "      <td>0.000000</td>\n",
       "      <td>0.050333</td>\n",
       "    </tr>\n",
       "    <tr>\n",
       "      <th>4</th>\n",
       "      <td>9000000.0</td>\n",
       "      <td>2340000.0</td>\n",
       "      <td>0.0</td>\n",
       "      <td>1.0</td>\n",
       "      <td>0.0</td>\n",
       "      <td>1.0</td>\n",
       "      <td>0.0</td>\n",
       "      <td>0.280000</td>\n",
       "      <td>0.343637</td>\n",
       "      <td>0.149464</td>\n",
       "      <td>0.127305</td>\n",
       "      <td>0.000000</td>\n",
       "      <td>0.099593</td>\n",
       "    </tr>\n",
       "    <tr>\n",
       "      <th>...</th>\n",
       "      <td>...</td>\n",
       "      <td>...</td>\n",
       "      <td>...</td>\n",
       "      <td>...</td>\n",
       "      <td>...</td>\n",
       "      <td>...</td>\n",
       "      <td>...</td>\n",
       "      <td>...</td>\n",
       "      <td>...</td>\n",
       "      <td>...</td>\n",
       "      <td>...</td>\n",
       "      <td>...</td>\n",
       "      <td>...</td>\n",
       "    </tr>\n",
       "    <tr>\n",
       "      <th>17496</th>\n",
       "      <td>184460000.0</td>\n",
       "      <td>84170000.0</td>\n",
       "      <td>1.0</td>\n",
       "      <td>1.0</td>\n",
       "      <td>0.0</td>\n",
       "      <td>0.0</td>\n",
       "      <td>0.0</td>\n",
       "      <td>0.456305</td>\n",
       "      <td>0.082584</td>\n",
       "      <td>0.112523</td>\n",
       "      <td>0.122382</td>\n",
       "      <td>0.000000</td>\n",
       "      <td>0.245815</td>\n",
       "    </tr>\n",
       "    <tr>\n",
       "      <th>17497</th>\n",
       "      <td>187750000.0</td>\n",
       "      <td>88770000.0</td>\n",
       "      <td>0.0</td>\n",
       "      <td>0.0</td>\n",
       "      <td>1.0</td>\n",
       "      <td>0.0</td>\n",
       "      <td>0.0</td>\n",
       "      <td>0.472810</td>\n",
       "      <td>0.108436</td>\n",
       "      <td>0.147173</td>\n",
       "      <td>0.123760</td>\n",
       "      <td>0.000000</td>\n",
       "      <td>0.179752</td>\n",
       "    </tr>\n",
       "    <tr>\n",
       "      <th>17498</th>\n",
       "      <td>180920000.0</td>\n",
       "      <td>72630000.0</td>\n",
       "      <td>1.0</td>\n",
       "      <td>0.0</td>\n",
       "      <td>1.0</td>\n",
       "      <td>0.0</td>\n",
       "      <td>2000000.0</td>\n",
       "      <td>0.401448</td>\n",
       "      <td>0.094238</td>\n",
       "      <td>0.119465</td>\n",
       "      <td>0.110883</td>\n",
       "      <td>0.011055</td>\n",
       "      <td>0.294842</td>\n",
       "    </tr>\n",
       "    <tr>\n",
       "      <th>17499</th>\n",
       "      <td>187670000.0</td>\n",
       "      <td>84790000.0</td>\n",
       "      <td>1.0</td>\n",
       "      <td>0.0</td>\n",
       "      <td>0.0</td>\n",
       "      <td>0.0</td>\n",
       "      <td>1000000.0</td>\n",
       "      <td>0.451804</td>\n",
       "      <td>0.088712</td>\n",
       "      <td>0.140107</td>\n",
       "      <td>0.132531</td>\n",
       "      <td>0.005328</td>\n",
       "      <td>0.181518</td>\n",
       "    </tr>\n",
       "    <tr>\n",
       "      <th>17500</th>\n",
       "      <td>197810000.0</td>\n",
       "      <td>103070000.0</td>\n",
       "      <td>1.0</td>\n",
       "      <td>1.0</td>\n",
       "      <td>1.0</td>\n",
       "      <td>0.0</td>\n",
       "      <td>1000000.0</td>\n",
       "      <td>0.521056</td>\n",
       "      <td>0.099163</td>\n",
       "      <td>0.118563</td>\n",
       "      <td>0.118284</td>\n",
       "      <td>0.005055</td>\n",
       "      <td>0.189420</td>\n",
       "    </tr>\n",
       "  </tbody>\n",
       "</table>\n",
       "<p>17501 rows × 13 columns</p>\n",
       "</div>"
      ],
      "text/plain": [
       "         Thu nh?p       C? ??nh  Nhu c?u  Giáo d?c  Thanh toán n?  Ti?t ki?m  \\\n",
       "0        7550000.0    3180000.0      0.0       1.0            0.0        1.0   \n",
       "1        7350000.0    2410000.0      0.0       1.0            0.0        0.0   \n",
       "2        7750000.0    2400000.0      0.0       0.0            0.0        1.0   \n",
       "3        7250000.0    3420000.0      0.0       1.0            0.0        1.0   \n",
       "4        9000000.0    2340000.0      0.0       1.0            0.0        1.0   \n",
       "...            ...          ...      ...       ...            ...        ...   \n",
       "17496  184460000.0   84170000.0      1.0       1.0            0.0        0.0   \n",
       "17497  187750000.0   88770000.0      0.0       0.0            1.0        0.0   \n",
       "17498  180920000.0   72630000.0      1.0       0.0            1.0        0.0   \n",
       "17499  187670000.0   84790000.0      1.0       0.0            0.0        0.0   \n",
       "17500  197810000.0  103070000.0      1.0       1.0            1.0        0.0   \n",
       "\n",
       "        B?n thân         a         b         c         d         e         f  \n",
       "0            0.0  0.441192  0.396550  0.021725  0.129350  0.000000  0.011183  \n",
       "1            1.0  0.347891  0.111428  0.384311  0.127250  0.000000  0.029119  \n",
       "2            0.0  0.329677  0.335039  0.137593  0.106540  0.000000  0.091150  \n",
       "3            0.0  0.491724  0.334125  0.024972  0.098846  0.000000  0.050333  \n",
       "4            0.0  0.280000  0.343637  0.149464  0.127305  0.000000  0.099593  \n",
       "...          ...       ...       ...       ...       ...       ...       ...  \n",
       "17496        0.0  0.456305  0.082584  0.112523  0.122382  0.000000  0.245815  \n",
       "17497        0.0  0.472810  0.108436  0.147173  0.123760  0.000000  0.179752  \n",
       "17498  2000000.0  0.401448  0.094238  0.119465  0.110883  0.011055  0.294842  \n",
       "17499  1000000.0  0.451804  0.088712  0.140107  0.132531  0.005328  0.181518  \n",
       "17500  1000000.0  0.521056  0.099163  0.118563  0.118284  0.005055  0.189420  \n",
       "\n",
       "[17501 rows x 13 columns]"
      ]
     },
     "execution_count": 2,
     "metadata": {},
     "output_type": "execute_result"
    }
   ],
   "source": [
    "data = pd.read_csv(\"data.csv\", encoding='latin-1')\n",
    "data"
   ]
  },
  {
   "cell_type": "code",
   "execution_count": 3,
   "metadata": {},
   "outputs": [
    {
     "data": {
      "text/plain": [
       "Thu nh?p         0\n",
       "C? ??nh          0\n",
       "Nhu c?u          0\n",
       "Giáo d?c         1\n",
       "Thanh toán n?    2\n",
       "Ti?t ki?m        2\n",
       "B?n thân         2\n",
       "a                2\n",
       "b                2\n",
       "c                2\n",
       "d                4\n",
       "e                4\n",
       "f                4\n",
       "dtype: int64"
      ]
     },
     "execution_count": 3,
     "metadata": {},
     "output_type": "execute_result"
    }
   ],
   "source": [
    "data.isnull().sum()"
   ]
  },
  {
   "cell_type": "code",
   "execution_count": 4,
   "metadata": {},
   "outputs": [
    {
     "data": {
      "text/plain": [
       "Thu nh?p         0\n",
       "C? ??nh          0\n",
       "Nhu c?u          0\n",
       "Giáo d?c         0\n",
       "Thanh toán n?    0\n",
       "Ti?t ki?m        0\n",
       "B?n thân         0\n",
       "a                0\n",
       "b                0\n",
       "c                0\n",
       "d                0\n",
       "e                0\n",
       "f                0\n",
       "dtype: int64"
      ]
     },
     "execution_count": 4,
     "metadata": {},
     "output_type": "execute_result"
    }
   ],
   "source": [
    "data = data.dropna()\n",
    "data.isnull().sum()"
   ]
  },
  {
   "cell_type": "markdown",
   "metadata": {},
   "source": [
    "### Split Data"
   ]
  },
  {
   "cell_type": "code",
   "execution_count": 5,
   "metadata": {},
   "outputs": [
    {
     "name": "stdout",
     "output_type": "stream",
     "text": [
      "[[7.5500e+06 3.1800e+06 0.0000e+00 ... 0.0000e+00 1.0000e+00 0.0000e+00]\n",
      " [7.3500e+06 2.4100e+06 0.0000e+00 ... 0.0000e+00 0.0000e+00 1.0000e+00]\n",
      " [7.7500e+06 2.4000e+06 0.0000e+00 ... 0.0000e+00 1.0000e+00 0.0000e+00]\n",
      " ...\n",
      " [1.8092e+08 7.2630e+07 1.0000e+00 ... 1.0000e+00 0.0000e+00 2.0000e+06]\n",
      " [1.8767e+08 8.4790e+07 1.0000e+00 ... 0.0000e+00 0.0000e+00 1.0000e+06]\n",
      " [1.9781e+08 1.0307e+08 1.0000e+00 ... 1.0000e+00 0.0000e+00 1.0000e+06]]\n",
      "[[0.44119205 0.39654965 0.02172527 0.12934956 0.         0.01118347]\n",
      " [0.34789116 0.11142825 0.38431147 0.12725029 0.         0.02911883]\n",
      " [0.32967742 0.33503878 0.13759292 0.10654045 0.         0.09115043]\n",
      " ...\n",
      " [0.40144815 0.09423791 0.11946486 0.11088306 0.01105461 0.29484235]\n",
      " [0.4518037  0.08871151 0.14010727 0.13253127 0.0053285  0.18151775]\n",
      " [0.52105556 0.09916272 0.11856276 0.11828351 0.00505536 0.18942045]]\n"
     ]
    }
   ],
   "source": [
    "X = np.array(data)[:,0:7]\n",
    "Y = np.array(data)[:,7:13]\n",
    "print(X)\n",
    "print(Y)"
   ]
  },
  {
   "cell_type": "code",
   "execution_count": 6,
   "metadata": {},
   "outputs": [
    {
     "name": "stdout",
     "output_type": "stream",
     "text": [
      "X_train:  (13997, 7)\n",
      "X_test:  (3500, 7)\n",
      "Y_train:  (13997, 6)\n",
      "Y_test:  (3500, 6)\n"
     ]
    }
   ],
   "source": [
    "from sklearn.model_selection import train_test_split\n",
    "X_train, X_test, y_train, y_test = train_test_split(X, Y, test_size=0.2, random_state=42)\n",
    "print(\"X_train: \", X_train.shape)\n",
    "print(\"X_test: \", X_test.shape)\n",
    "print(\"Y_train: \",y_train.shape)\n",
    "print(\"Y_test: \", y_test.shape)\n"
   ]
  },
  {
   "cell_type": "markdown",
   "metadata": {},
   "source": [
    "### Descale Data"
   ]
  },
  {
   "cell_type": "code",
   "execution_count": 7,
   "metadata": {},
   "outputs": [
    {
     "name": "stdout",
     "output_type": "stream",
     "text": [
      "                      0             1         2         3             4  \\\n",
      "Mean       9.522930e+07  4.260966e+07  0.412303  0.557834  1.461349e+06   \n",
      "Median     8.766000e+07  3.449000e+07  0.000000  1.000000  0.000000e+00   \n",
      "Std Dev    5.577966e+07  3.046577e+07  0.492249  0.496644  5.037026e+06   \n",
      "Min Value  3.200000e+06  2.000000e+06  0.000000  0.000000  0.000000e+00   \n",
      "Max Value  1.999400e+08  1.192200e+08  1.000000  1.000000  5.400000e+07   \n",
      "\n",
      "                  5             6  \n",
      "Mean       0.547760  2.528614e+06  \n",
      "Median     1.000000  1.000000e+00  \n",
      "Std Dev    0.497714  6.463077e+06  \n",
      "Min Value  0.000000  0.000000e+00  \n",
      "Max Value  1.000000  4.600000e+07  \n"
     ]
    }
   ],
   "source": [
    "# Tính các giá trị thống kê cơ bản\n",
    "mean = np.mean(X_train, axis=0)\n",
    "median = np.median(X_train, axis=0)\n",
    "std_dev = np.std(X_train, axis=0)\n",
    "min_val = np.min(X_train, axis=0)\n",
    "max_val = np.max(X_train, axis=0)\n",
    "\n",
    "# Tạo DataFrame từ các giá trị thống kê\n",
    "statics_df = pd.DataFrame({\n",
    "    'Mean': mean,\n",
    "    'Median': median,\n",
    "    'Std Dev': std_dev,\n",
    "    'Min Value': min_val,\n",
    "    'Max Value': max_val\n",
    "})\n",
    "\n",
    "# Xếp chúng thành các hàng của các cột\n",
    "statics_transpose = statics_df.transpose()\n",
    "\n",
    "# In DataFrame đã xếp\n",
    "print(statics_transpose)"
   ]
  },
  {
   "cell_type": "code",
   "execution_count": 8,
   "metadata": {},
   "outputs": [],
   "source": [
    "def de_scale(data_scale):\n",
    "    for i in range(len(data_scale)):\n",
    "        data_scale[i] = data_scale[i] * (max_val[i] - min_val[i]) + min_val[i]\n",
    "    return data_scale"
   ]
  },
  {
   "cell_type": "markdown",
   "metadata": {},
   "source": [
    "### Preprocessing Data"
   ]
  },
  {
   "cell_type": "code",
   "execution_count": 9,
   "metadata": {},
   "outputs": [],
   "source": [
    "from sklearn.preprocessing import MinMaxScaler\n",
    "from sklearn.preprocessing import StandardScaler\n",
    "def ScalerData(data):\n",
    "    scaler = MinMaxScaler()\n",
    "    return scaler.fit_transform(data)"
   ]
  },
  {
   "cell_type": "code",
   "execution_count": 10,
   "metadata": {},
   "outputs": [
    {
     "name": "stdout",
     "output_type": "stream",
     "text": [
      "[[7.05499644e-01 5.06227606e-01 0.00000000e+00 ... 0.00000000e+00\n",
      "  0.00000000e+00 5.65217391e-01]\n",
      " [4.16844566e-01 1.58249445e-01 1.00000000e+00 ... 1.66666667e-01\n",
      "  0.00000000e+00 2.17391304e-08]\n",
      " [8.86398292e-01 6.49803788e-01 0.00000000e+00 ... 0.00000000e+00\n",
      "  1.00000000e+00 4.34782609e-02]\n",
      " ...\n",
      " [1.98027854e-01 2.14553830e-01 0.00000000e+00 ... 1.85185185e-02\n",
      "  0.00000000e+00 0.00000000e+00]\n",
      " [7.82758971e-02 2.13274185e-02 0.00000000e+00 ... 0.00000000e+00\n",
      "  0.00000000e+00 2.17391304e-08]\n",
      " [8.47971943e-01 7.72564409e-01 1.00000000e+00 ... 1.85185185e-08\n",
      "  0.00000000e+00 0.00000000e+00]]\n",
      "[[5.40631536e-01 4.20938125e-01 1.00000000e+00 ... 0.00000000e+00\n",
      "  0.00000000e+00 2.17391304e-08]\n",
      " [4.13610162e-01 1.36106518e-01 1.00000000e+00 ... 0.00000000e+00\n",
      "  1.00000000e+00 2.17391304e-08]\n",
      " [1.32632760e-02 6.61387173e-03 0.00000000e+00 ... 3.33333333e-02\n",
      "  0.00000000e+00 0.00000000e+00]\n",
      " ...\n",
      " [5.59353160e-01 5.16578192e-01 1.00000000e+00 ... 0.00000000e+00\n",
      "  0.00000000e+00 2.17391304e-08]\n",
      " [8.41197776e-01 7.68166391e-01 1.00000000e+00 ... 0.00000000e+00\n",
      "  0.00000000e+00 2.17391304e-02]\n",
      " [7.46671428e-01 6.50335045e-01 1.00000000e+00 ... 1.96078431e-08\n",
      "  0.00000000e+00 2.82608696e-01]]\n"
     ]
    }
   ],
   "source": [
    "X_train = ScalerData(X_train)\n",
    "X_test = ScalerData(X_test)\n",
    "print(X_train)\n",
    "print(X_test)"
   ]
  },
  {
   "cell_type": "markdown",
   "metadata": {},
   "source": [
    "### Define model Neural Network"
   ]
  },
  {
   "cell_type": "code",
   "execution_count": 11,
   "metadata": {},
   "outputs": [
    {
     "name": "stderr",
     "output_type": "stream",
     "text": [
      "c:\\Users\\vuong\\AppData\\Local\\Programs\\Python\\Python312\\Lib\\site-packages\\keras\\src\\layers\\core\\dense.py:86: UserWarning: Do not pass an `input_shape`/`input_dim` argument to a layer. When using Sequential models, prefer using an `Input(shape)` object as the first layer in the model instead.\n",
      "  super().__init__(activity_regularizer=activity_regularizer, **kwargs)\n"
     ]
    },
    {
     "data": {
      "text/html": [
       "<pre style=\"white-space:pre;overflow-x:auto;line-height:normal;font-family:Menlo,'DejaVu Sans Mono',consolas,'Courier New',monospace\"><span style=\"font-weight: bold\">Model: \"sequential\"</span>\n",
       "</pre>\n"
      ],
      "text/plain": [
       "\u001b[1mModel: \"sequential\"\u001b[0m\n"
      ]
     },
     "metadata": {},
     "output_type": "display_data"
    },
    {
     "data": {
      "text/html": [
       "<pre style=\"white-space:pre;overflow-x:auto;line-height:normal;font-family:Menlo,'DejaVu Sans Mono',consolas,'Courier New',monospace\">┏━━━━━━━━━━━━━━━━━━━━━━━━━━━━━━━━━┳━━━━━━━━━━━━━━━━━━━━━━━━┳━━━━━━━━━━━━━━━┓\n",
       "┃<span style=\"font-weight: bold\"> Layer (type)                    </span>┃<span style=\"font-weight: bold\"> Output Shape           </span>┃<span style=\"font-weight: bold\">       Param # </span>┃\n",
       "┡━━━━━━━━━━━━━━━━━━━━━━━━━━━━━━━━━╇━━━━━━━━━━━━━━━━━━━━━━━━╇━━━━━━━━━━━━━━━┩\n",
       "│ dense (<span style=\"color: #0087ff; text-decoration-color: #0087ff\">Dense</span>)                   │ (<span style=\"color: #00d7ff; text-decoration-color: #00d7ff\">None</span>, <span style=\"color: #00af00; text-decoration-color: #00af00\">256</span>)            │         <span style=\"color: #00af00; text-decoration-color: #00af00\">2,048</span> │\n",
       "├─────────────────────────────────┼────────────────────────┼───────────────┤\n",
       "│ dense_1 (<span style=\"color: #0087ff; text-decoration-color: #0087ff\">Dense</span>)                 │ (<span style=\"color: #00d7ff; text-decoration-color: #00d7ff\">None</span>, <span style=\"color: #00af00; text-decoration-color: #00af00\">512</span>)            │       <span style=\"color: #00af00; text-decoration-color: #00af00\">131,584</span> │\n",
       "├─────────────────────────────────┼────────────────────────┼───────────────┤\n",
       "│ dense_2 (<span style=\"color: #0087ff; text-decoration-color: #0087ff\">Dense</span>)                 │ (<span style=\"color: #00d7ff; text-decoration-color: #00d7ff\">None</span>, <span style=\"color: #00af00; text-decoration-color: #00af00\">512</span>)            │       <span style=\"color: #00af00; text-decoration-color: #00af00\">262,656</span> │\n",
       "├─────────────────────────────────┼────────────────────────┼───────────────┤\n",
       "│ dense_3 (<span style=\"color: #0087ff; text-decoration-color: #0087ff\">Dense</span>)                 │ (<span style=\"color: #00d7ff; text-decoration-color: #00d7ff\">None</span>, <span style=\"color: #00af00; text-decoration-color: #00af00\">6</span>)              │         <span style=\"color: #00af00; text-decoration-color: #00af00\">3,078</span> │\n",
       "└─────────────────────────────────┴────────────────────────┴───────────────┘\n",
       "</pre>\n"
      ],
      "text/plain": [
       "┏━━━━━━━━━━━━━━━━━━━━━━━━━━━━━━━━━┳━━━━━━━━━━━━━━━━━━━━━━━━┳━━━━━━━━━━━━━━━┓\n",
       "┃\u001b[1m \u001b[0m\u001b[1mLayer (type)                   \u001b[0m\u001b[1m \u001b[0m┃\u001b[1m \u001b[0m\u001b[1mOutput Shape          \u001b[0m\u001b[1m \u001b[0m┃\u001b[1m \u001b[0m\u001b[1m      Param #\u001b[0m\u001b[1m \u001b[0m┃\n",
       "┡━━━━━━━━━━━━━━━━━━━━━━━━━━━━━━━━━╇━━━━━━━━━━━━━━━━━━━━━━━━╇━━━━━━━━━━━━━━━┩\n",
       "│ dense (\u001b[38;5;33mDense\u001b[0m)                   │ (\u001b[38;5;45mNone\u001b[0m, \u001b[38;5;34m256\u001b[0m)            │         \u001b[38;5;34m2,048\u001b[0m │\n",
       "├─────────────────────────────────┼────────────────────────┼───────────────┤\n",
       "│ dense_1 (\u001b[38;5;33mDense\u001b[0m)                 │ (\u001b[38;5;45mNone\u001b[0m, \u001b[38;5;34m512\u001b[0m)            │       \u001b[38;5;34m131,584\u001b[0m │\n",
       "├─────────────────────────────────┼────────────────────────┼───────────────┤\n",
       "│ dense_2 (\u001b[38;5;33mDense\u001b[0m)                 │ (\u001b[38;5;45mNone\u001b[0m, \u001b[38;5;34m512\u001b[0m)            │       \u001b[38;5;34m262,656\u001b[0m │\n",
       "├─────────────────────────────────┼────────────────────────┼───────────────┤\n",
       "│ dense_3 (\u001b[38;5;33mDense\u001b[0m)                 │ (\u001b[38;5;45mNone\u001b[0m, \u001b[38;5;34m6\u001b[0m)              │         \u001b[38;5;34m3,078\u001b[0m │\n",
       "└─────────────────────────────────┴────────────────────────┴───────────────┘\n"
      ]
     },
     "metadata": {},
     "output_type": "display_data"
    },
    {
     "data": {
      "text/html": [
       "<pre style=\"white-space:pre;overflow-x:auto;line-height:normal;font-family:Menlo,'DejaVu Sans Mono',consolas,'Courier New',monospace\"><span style=\"font-weight: bold\"> Total params: </span><span style=\"color: #00af00; text-decoration-color: #00af00\">399,366</span> (1.52 MB)\n",
       "</pre>\n"
      ],
      "text/plain": [
       "\u001b[1m Total params: \u001b[0m\u001b[38;5;34m399,366\u001b[0m (1.52 MB)\n"
      ]
     },
     "metadata": {},
     "output_type": "display_data"
    },
    {
     "data": {
      "text/html": [
       "<pre style=\"white-space:pre;overflow-x:auto;line-height:normal;font-family:Menlo,'DejaVu Sans Mono',consolas,'Courier New',monospace\"><span style=\"font-weight: bold\"> Trainable params: </span><span style=\"color: #00af00; text-decoration-color: #00af00\">399,366</span> (1.52 MB)\n",
       "</pre>\n"
      ],
      "text/plain": [
       "\u001b[1m Trainable params: \u001b[0m\u001b[38;5;34m399,366\u001b[0m (1.52 MB)\n"
      ]
     },
     "metadata": {},
     "output_type": "display_data"
    },
    {
     "data": {
      "text/html": [
       "<pre style=\"white-space:pre;overflow-x:auto;line-height:normal;font-family:Menlo,'DejaVu Sans Mono',consolas,'Courier New',monospace\"><span style=\"font-weight: bold\"> Non-trainable params: </span><span style=\"color: #00af00; text-decoration-color: #00af00\">0</span> (0.00 B)\n",
       "</pre>\n"
      ],
      "text/plain": [
       "\u001b[1m Non-trainable params: \u001b[0m\u001b[38;5;34m0\u001b[0m (0.00 B)\n"
      ]
     },
     "metadata": {},
     "output_type": "display_data"
    }
   ],
   "source": [
    "from keras.models import Sequential\n",
    "from keras.layers import Dense\n",
    "from keras.optimizers import Adamax\n",
    "\n",
    "def define_model():\n",
    "    model = Sequential()\n",
    "    \n",
    "    # Layer 1\n",
    "    model.add(Dense(256, input_dim=7, activation='relu'))\n",
    "    \n",
    "    # Layer 2\n",
    "    model.add(Dense(512, activation='relu'))\n",
    "    \n",
    "    # Layer 3\n",
    "    model.add(Dense(512, activation='relu'))\n",
    "\n",
    "    # Layer 4\n",
    "    model.add(Dense(6, activation='relu'))\n",
    "    \n",
    "    optimizer = Adamax(learning_rate=0.001)\n",
    "    model.compile(optimizer=optimizer, loss='mean_squared_error')\n",
    "    \n",
    "    return model\n",
    "\n",
    "model = define_model()\n",
    "model.summary()\n"
   ]
  },
  {
   "cell_type": "code",
   "execution_count": 12,
   "metadata": {},
   "outputs": [],
   "source": [
    "from sklearn.ensemble import RandomForestRegressor\n",
    "def define_model_2():\n",
    "    model = RandomForestRegressor(n_estimators=100, random_state=42)\n",
    "    return model"
   ]
  },
  {
   "cell_type": "markdown",
   "metadata": {},
   "source": [
    "### Train Model"
   ]
  },
  {
   "cell_type": "code",
   "execution_count": 13,
   "metadata": {},
   "outputs": [],
   "source": [
    "import matplotlib.pyplot as plt\n",
    "\n",
    "def train_and_plot_loss():\n",
    "    model = define_model()\n",
    "    history = model.fit(X_train, y_train, epochs=16, batch_size=8, validation_split=0.2, shuffle=True ,verbose=1)\n",
    "    model.save('final_model.h5')\n",
    "    \n",
    "    # Lấy giá trị loss từ lịch sử huấn luyện\n",
    "    train_loss = history.history['loss']\n",
    "    val_loss = history.history['val_loss']\n",
    "    \n",
    "    # Vẽ biểu đồ loss của cả hai tập train và validation\n",
    "    epochs = range(1, len(train_loss) + 1)\n",
    "    plt.plot(epochs, train_loss, 'b', label='Training loss')  # Đường liên tục màu xanh\n",
    "    plt.plot(epochs, val_loss, 'r', label='Validation loss')  # Đường liên tục màu đỏ\n",
    "    plt.title('Training and validation loss')\n",
    "    plt.xlabel('Epochs')\n",
    "    plt.ylabel('Loss')\n",
    "    plt.legend()\n",
    "    plt.show()"
   ]
  },
  {
   "cell_type": "markdown",
   "metadata": {},
   "source": [
    "### Random Forest"
   ]
  },
  {
   "cell_type": "code",
   "execution_count": 14,
   "metadata": {},
   "outputs": [],
   "source": [
    "import joblib\n",
    "def train2():\n",
    "    model2 = define_model_2()\n",
    "    model2.fit(X_train, y_train)\n",
    "    joblib.dump(model2, 'random_forest_model.pkl')\n"
   ]
  },
  {
   "cell_type": "markdown",
   "metadata": {},
   "source": [
    "### Train Model"
   ]
  },
  {
   "cell_type": "code",
   "execution_count": 15,
   "metadata": {},
   "outputs": [],
   "source": [
    "train2()"
   ]
  },
  {
   "cell_type": "code",
   "execution_count": 16,
   "metadata": {},
   "outputs": [
    {
     "name": "stdout",
     "output_type": "stream",
     "text": [
      "Epoch 1/16\n"
     ]
    },
    {
     "name": "stderr",
     "output_type": "stream",
     "text": [
      "c:\\Users\\vuong\\AppData\\Local\\Programs\\Python\\Python312\\Lib\\site-packages\\keras\\src\\layers\\core\\dense.py:86: UserWarning: Do not pass an `input_shape`/`input_dim` argument to a layer. When using Sequential models, prefer using an `Input(shape)` object as the first layer in the model instead.\n",
      "  super().__init__(activity_regularizer=activity_regularizer, **kwargs)\n"
     ]
    },
    {
     "name": "stdout",
     "output_type": "stream",
     "text": [
      "\u001b[1m1400/1400\u001b[0m \u001b[32m━━━━━━━━━━━━━━━━━━━━\u001b[0m\u001b[37m\u001b[0m \u001b[1m4s\u001b[0m 2ms/step - loss: 0.0047 - val_loss: 0.0022\n",
      "Epoch 2/16\n",
      "\u001b[1m1400/1400\u001b[0m \u001b[32m━━━━━━━━━━━━━━━━━━━━\u001b[0m\u001b[37m\u001b[0m \u001b[1m3s\u001b[0m 2ms/step - loss: 0.0019 - val_loss: 0.0015\n",
      "Epoch 3/16\n",
      "\u001b[1m1400/1400\u001b[0m \u001b[32m━━━━━━━━━━━━━━━━━━━━\u001b[0m\u001b[37m\u001b[0m \u001b[1m3s\u001b[0m 2ms/step - loss: 0.0015 - val_loss: 0.0014\n",
      "Epoch 4/16\n",
      "\u001b[1m1400/1400\u001b[0m \u001b[32m━━━━━━━━━━━━━━━━━━━━\u001b[0m\u001b[37m\u001b[0m \u001b[1m3s\u001b[0m 2ms/step - loss: 0.0014 - val_loss: 0.0014\n",
      "Epoch 5/16\n",
      "\u001b[1m1400/1400\u001b[0m \u001b[32m━━━━━━━━━━━━━━━━━━━━\u001b[0m\u001b[37m\u001b[0m \u001b[1m3s\u001b[0m 2ms/step - loss: 0.0014 - val_loss: 0.0014\n",
      "Epoch 6/16\n",
      "\u001b[1m1400/1400\u001b[0m \u001b[32m━━━━━━━━━━━━━━━━━━━━\u001b[0m\u001b[37m\u001b[0m \u001b[1m3s\u001b[0m 2ms/step - loss: 0.0013 - val_loss: 0.0013\n",
      "Epoch 7/16\n",
      "\u001b[1m1400/1400\u001b[0m \u001b[32m━━━━━━━━━━━━━━━━━━━━\u001b[0m\u001b[37m\u001b[0m \u001b[1m3s\u001b[0m 2ms/step - loss: 0.0013 - val_loss: 0.0013\n",
      "Epoch 8/16\n",
      "\u001b[1m1400/1400\u001b[0m \u001b[32m━━━━━━━━━━━━━━━━━━━━\u001b[0m\u001b[37m\u001b[0m \u001b[1m3s\u001b[0m 2ms/step - loss: 0.0013 - val_loss: 0.0013\n",
      "Epoch 9/16\n",
      "\u001b[1m1400/1400\u001b[0m \u001b[32m━━━━━━━━━━━━━━━━━━━━\u001b[0m\u001b[37m\u001b[0m \u001b[1m3s\u001b[0m 2ms/step - loss: 0.0012 - val_loss: 0.0012\n",
      "Epoch 10/16\n",
      "\u001b[1m1400/1400\u001b[0m \u001b[32m━━━━━━━━━━━━━━━━━━━━\u001b[0m\u001b[37m\u001b[0m \u001b[1m3s\u001b[0m 2ms/step - loss: 0.0013 - val_loss: 0.0013\n",
      "Epoch 11/16\n",
      "\u001b[1m1400/1400\u001b[0m \u001b[32m━━━━━━━━━━━━━━━━━━━━\u001b[0m\u001b[37m\u001b[0m \u001b[1m3s\u001b[0m 2ms/step - loss: 0.0013 - val_loss: 0.0012\n",
      "Epoch 12/16\n",
      "\u001b[1m1400/1400\u001b[0m \u001b[32m━━━━━━━━━━━━━━━━━━━━\u001b[0m\u001b[37m\u001b[0m \u001b[1m3s\u001b[0m 2ms/step - loss: 0.0013 - val_loss: 0.0012\n",
      "Epoch 13/16\n",
      "\u001b[1m1400/1400\u001b[0m \u001b[32m━━━━━━━━━━━━━━━━━━━━\u001b[0m\u001b[37m\u001b[0m \u001b[1m3s\u001b[0m 2ms/step - loss: 0.0013 - val_loss: 0.0012\n",
      "Epoch 14/16\n",
      "\u001b[1m1400/1400\u001b[0m \u001b[32m━━━━━━━━━━━━━━━━━━━━\u001b[0m\u001b[37m\u001b[0m \u001b[1m3s\u001b[0m 2ms/step - loss: 0.0012 - val_loss: 0.0012\n",
      "Epoch 15/16\n",
      "\u001b[1m1400/1400\u001b[0m \u001b[32m━━━━━━━━━━━━━━━━━━━━\u001b[0m\u001b[37m\u001b[0m \u001b[1m3s\u001b[0m 2ms/step - loss: 0.0012 - val_loss: 0.0013\n",
      "Epoch 16/16\n",
      "\u001b[1m1400/1400\u001b[0m \u001b[32m━━━━━━━━━━━━━━━━━━━━\u001b[0m\u001b[37m\u001b[0m \u001b[1m3s\u001b[0m 2ms/step - loss: 0.0012 - val_loss: 0.0012\n"
     ]
    },
    {
     "name": "stderr",
     "output_type": "stream",
     "text": [
      "WARNING:absl:You are saving your model as an HDF5 file via `model.save()` or `keras.saving.save_model(model)`. This file format is considered legacy. We recommend using instead the native Keras format, e.g. `model.save('my_model.keras')` or `keras.saving.save_model(model, 'my_model.keras')`. \n"
     ]
    },
    {
     "data": {
      "image/png": "[encoded data removed]",
      "text/plain": [
       "<Figure size 640x480 with 1 Axes>"
      ]
     },
     "metadata": {},
     "output_type": "display_data"
    }
   ],
   "source": [
    "train_and_plot_loss()"
   ]
  },
  {
   "cell_type": "markdown",
   "metadata": {},
   "source": [
    "### Dự đoán và đánh giá theo R^2 score"
   ]
  },
  {
   "cell_type": "code",
   "execution_count": 17,
   "metadata": {},
   "outputs": [
    {
     "name": "stderr",
     "output_type": "stream",
     "text": [
      "WARNING:absl:Compiled the loaded model, but the compiled metrics have yet to be built. `model.compile_metrics` will be empty until you train or evaluate the model.\n"
     ]
    },
    {
     "name": "stdout",
     "output_type": "stream",
     "text": [
      "\u001b[1m110/110\u001b[0m \u001b[32m━━━━━━━━━━━━━━━━━━━━\u001b[0m\u001b[37m\u001b[0m \u001b[1m0s\u001b[0m 1ms/step  \n",
      "R-square Neural Network:  0.7894\n",
      "R-square Random Forest:  0.7735\n"
     ]
    }
   ],
   "source": [
    "import sys\n",
    "import os\n",
    "from sklearn.metrics import r2_score\n",
    "\n",
    "# Load model\n",
    "model = load_model(\"final_model.h5\")\n",
    "model2 = joblib.load('random_forest_model.pkl')\n",
    "\n",
    "# Tính toán R-squared\n",
    "predict_1 = model.predict(X_test)\n",
    "r_squared_1 = r2_score(y_test, predict_1)\n",
    "\n",
    "predict_2 = model2.predict(X_test)\n",
    "r_squared_2 = r2_score(y_test, predict_2)\n",
    "\n",
    "print(\"R-square Neural Network: \", np.round(r_squared_1, decimals = 4))\n",
    "print(\"R-square Random Forest: \", np.round(r_squared_2, decimals = 4))\n"
   ]
  },
  {
   "cell_type": "markdown",
   "metadata": {},
   "source": [
    "### Đưa ra ouput\n",
    "\n",
    "(a) Chi tiêu cố định: Tương ứng số tiền chi tiêu phục vụ cho nhu cầu chi tiêu cần thiết như tiền thuê nhà; tiền điện, nước; tiền ăn uống; xăng xe hoặc vé xe; tiền internet và điện thoại; …. Đảm bảo cho việc chi trả các khoản chi phí cần thiết thường ngày.\n",
    "\n",
    "(b) Tiết kiệm: Tương ứng với số tiền chi tiêu phục vụ cho nhu cầu tiết kiệm và đầu tư như: tiết kiệm hưu trí, đầu tư cổ phiếu hoặc quỹ, những khoản chi tiêu lớn như mua nhà, mua xe, … \n",
    "\n",
    "(c) Bản thân: Tương ứng với số tiền chi tiêu phục vụ cho các hoạt động vui chơi, giải trí, thể thao, du lịch, mua sắm, đi ăn ngoài, nhà hàng, xem phim, …\n",
    "\n",
    "(d) Giáo dục: Tương ứng với số tiền chi tiêu phục vụ cho mục tiêu giáo dục và phát triển bản thân: các khóa học; sách vở, tài liệu học tập; tham gia hội thảo, workshop; các khóa đào tạo nghề nghiệp hoặc kỹ năng mới, ...\n",
    "\n",
    "(e) Thanh toán nợ: Tương ứng với số tiền chi tiêu phục vụ cho việc thanh toán các khoản vay nợ cần phải trả\n",
    "\n",
    "(f) Khác: Tương ứng với số tiền chi tiêu phục vụ cho nhu cầu khác như: từ thiện, y tế, quà cáp, bảo trì, sửa chữa thiết bị, thú cưng và một số khoản chi tiêu phát sinh khác. \n"
   ]
  },
  {
   "cell_type": "code",
   "execution_count": 18,
   "metadata": {},
   "outputs": [
    {
     "data": {
      "text/html": [
       "<div>\n",
       "<style scoped>\n",
       "    .dataframe tbody tr th:only-of-type {\n",
       "        vertical-align: middle;\n",
       "    }\n",
       "\n",
       "    .dataframe tbody tr th {\n",
       "        vertical-align: top;\n",
       "    }\n",
       "\n",
       "    .dataframe thead th {\n",
       "        text-align: right;\n",
       "    }\n",
       "</style>\n",
       "<table border=\"1\" class=\"dataframe\">\n",
       "  <thead>\n",
       "    <tr style=\"text-align: right;\">\n",
       "      <th></th>\n",
       "      <th>thu nhập</th>\n",
       "      <th>cố định</th>\n",
       "      <th>nhu cầu</th>\n",
       "      <th>giáo dục</th>\n",
       "      <th>thanh toán nợ</th>\n",
       "      <th>tiết kiệm</th>\n",
       "      <th>bản thân</th>\n",
       "      <th>a</th>\n",
       "      <th>b</th>\n",
       "      <th>c</th>\n",
       "      <th>d</th>\n",
       "      <th>e</th>\n",
       "      <th>f</th>\n",
       "    </tr>\n",
       "  </thead>\n",
       "  <tbody>\n",
       "    <tr>\n",
       "      <th>0</th>\n",
       "      <td>126374515</td>\n",
       "      <td>54912726</td>\n",
       "      <td>0</td>\n",
       "      <td>0</td>\n",
       "      <td>0</td>\n",
       "      <td>1</td>\n",
       "      <td>32000000</td>\n",
       "      <td>53872607</td>\n",
       "      <td>8526911</td>\n",
       "      <td>16467825</td>\n",
       "      <td>13568701</td>\n",
       "      <td>32652044</td>\n",
       "      <td>3106730</td>\n",
       "    </tr>\n",
       "    <tr>\n",
       "      <th>1</th>\n",
       "      <td>176144125</td>\n",
       "      <td>94635525</td>\n",
       "      <td>1</td>\n",
       "      <td>0</td>\n",
       "      <td>0</td>\n",
       "      <td>0</td>\n",
       "      <td>1000000</td>\n",
       "      <td>94442283</td>\n",
       "      <td>15229349</td>\n",
       "      <td>21279158</td>\n",
       "      <td>21290135</td>\n",
       "      <td>1715484</td>\n",
       "      <td>23873400</td>\n",
       "    </tr>\n",
       "    <tr>\n",
       "      <th>2</th>\n",
       "      <td>141970799</td>\n",
       "      <td>73907039</td>\n",
       "      <td>0</td>\n",
       "      <td>0</td>\n",
       "      <td>1</td>\n",
       "      <td>1</td>\n",
       "      <td>1000000</td>\n",
       "      <td>73614343</td>\n",
       "      <td>11990926</td>\n",
       "      <td>21179709</td>\n",
       "      <td>18637601</td>\n",
       "      <td>1571494</td>\n",
       "      <td>20245148</td>\n",
       "    </tr>\n",
       "    <tr>\n",
       "      <th>3</th>\n",
       "      <td>89682099</td>\n",
       "      <td>34459668</td>\n",
       "      <td>0</td>\n",
       "      <td>0</td>\n",
       "      <td>0</td>\n",
       "      <td>1</td>\n",
       "      <td>1</td>\n",
       "      <td>35101064</td>\n",
       "      <td>22074327</td>\n",
       "      <td>15141414</td>\n",
       "      <td>15108534</td>\n",
       "      <td>0</td>\n",
       "      <td>2120627</td>\n",
       "    </tr>\n",
       "    <tr>\n",
       "      <th>4</th>\n",
       "      <td>90344489</td>\n",
       "      <td>36550878</td>\n",
       "      <td>0</td>\n",
       "      <td>0</td>\n",
       "      <td>0</td>\n",
       "      <td>1</td>\n",
       "      <td>1</td>\n",
       "      <td>37114478</td>\n",
       "      <td>21979498</td>\n",
       "      <td>14370084</td>\n",
       "      <td>14345833</td>\n",
       "      <td>0</td>\n",
       "      <td>1987726</td>\n",
       "    </tr>\n",
       "    <tr>\n",
       "      <th>5</th>\n",
       "      <td>147821915</td>\n",
       "      <td>83414396</td>\n",
       "      <td>0</td>\n",
       "      <td>0</td>\n",
       "      <td>0</td>\n",
       "      <td>0</td>\n",
       "      <td>0</td>\n",
       "      <td>83364777</td>\n",
       "      <td>12496586</td>\n",
       "      <td>17262694</td>\n",
       "      <td>18135740</td>\n",
       "      <td>304632</td>\n",
       "      <td>16241709</td>\n",
       "    </tr>\n",
       "    <tr>\n",
       "      <th>6</th>\n",
       "      <td>125682016</td>\n",
       "      <td>71550601</td>\n",
       "      <td>0</td>\n",
       "      <td>1</td>\n",
       "      <td>0</td>\n",
       "      <td>0</td>\n",
       "      <td>5000000</td>\n",
       "      <td>71259812</td>\n",
       "      <td>9809599</td>\n",
       "      <td>14657946</td>\n",
       "      <td>19795970</td>\n",
       "      <td>5283396</td>\n",
       "      <td>10311184</td>\n",
       "    </tr>\n",
       "    <tr>\n",
       "      <th>7</th>\n",
       "      <td>125280567</td>\n",
       "      <td>65429985</td>\n",
       "      <td>0</td>\n",
       "      <td>1</td>\n",
       "      <td>0</td>\n",
       "      <td>0</td>\n",
       "      <td>16000000</td>\n",
       "      <td>65009495</td>\n",
       "      <td>8728238</td>\n",
       "      <td>14145237</td>\n",
       "      <td>19898042</td>\n",
       "      <td>16556243</td>\n",
       "      <td>6703995</td>\n",
       "    </tr>\n",
       "    <tr>\n",
       "      <th>8</th>\n",
       "      <td>175722604</td>\n",
       "      <td>90636723</td>\n",
       "      <td>0</td>\n",
       "      <td>1</td>\n",
       "      <td>0</td>\n",
       "      <td>1</td>\n",
       "      <td>0</td>\n",
       "      <td>91292735</td>\n",
       "      <td>15205107</td>\n",
       "      <td>28963047</td>\n",
       "      <td>25029402</td>\n",
       "      <td>307946</td>\n",
       "      <td>28395557</td>\n",
       "    </tr>\n",
       "    <tr>\n",
       "      <th>9</th>\n",
       "      <td>153913900</td>\n",
       "      <td>65419784</td>\n",
       "      <td>0</td>\n",
       "      <td>0</td>\n",
       "      <td>0</td>\n",
       "      <td>1</td>\n",
       "      <td>8000000</td>\n",
       "      <td>65204669</td>\n",
       "      <td>12577283</td>\n",
       "      <td>22025149</td>\n",
       "      <td>18347488</td>\n",
       "      <td>8498114</td>\n",
       "      <td>31226891</td>\n",
       "    </tr>\n",
       "  </tbody>\n",
       "</table>\n",
       "</div>"
      ],
      "text/plain": [
       "   thu nhập  cố định  nhu cầu  giáo dục  thanh toán nợ  tiết kiệm  bản thân  \\\n",
       "0 126374515 54912726        0         0              0          1  32000000   \n",
       "1 176144125 94635525        1         0              0          0   1000000   \n",
       "2 141970799 73907039        0         0              1          1   1000000   \n",
       "3  89682099 34459668        0         0              0          1         1   \n",
       "4  90344489 36550878        0         0              0          1         1   \n",
       "5 147821915 83414396        0         0              0          0         0   \n",
       "6 125682016 71550601        0         1              0          0   5000000   \n",
       "7 125280567 65429985        0         1              0          0  16000000   \n",
       "8 175722604 90636723        0         1              0          1         0   \n",
       "9 153913900 65419784        0         0              0          1   8000000   \n",
       "\n",
       "         a        b        c        d        e        f  \n",
       "0 53872607  8526911 16467825 13568701 32652044  3106730  \n",
       "1 94442283 15229349 21279158 21290135  1715484 23873400  \n",
       "2 73614343 11990926 21179709 18637601  1571494 20245148  \n",
       "3 35101064 22074327 15141414 15108534        0  2120627  \n",
       "4 37114478 21979498 14370084 14345833        0  1987726  \n",
       "5 83364777 12496586 17262694 18135740   304632 16241709  \n",
       "6 71259812  9809599 14657946 19795970  5283396 10311184  \n",
       "7 65009495  8728238 14145237 19898042 16556243  6703995  \n",
       "8 91292735 15205107 28963047 25029402   307946 28395557  \n",
       "9 65204669 12577283 22025149 18347488  8498114 31226891  "
      ]
     },
     "execution_count": 18,
     "metadata": {},
     "output_type": "execute_result"
    }
   ],
   "source": [
    "# Tính MSE cho từng mẫu\n",
    "mse_scores = []\n",
    "for i in range(len(X_test)):\n",
    "    mse = mean_squared_error([y_test[i]], [predict_1[i]])\n",
    "    mse_scores.append(mse)\n",
    "\n",
    "# Chuyển đổi thành mảng numpy để dễ dàng thao tác\n",
    "mse_scores = np.array(mse_scores)\n",
    "# Tạo output_matrix để xuất lưu giữ giá trị dự đoán\n",
    "output_matrix = []\n",
    "# Sắp xếp và chọn các mẫu có MSE thấp nhất\n",
    "# Giả sử bạn muốn chọn 10 mẫu có MSE thấp nhất\n",
    "top_n = 10\n",
    "top_indices = np.argsort(mse_scores)[:top_n]\n",
    "\n",
    "# Lưu các mẫu có MSE thấp nhất và các X_test tương ứng\n",
    "top_samples = []\n",
    "top_X_test = []\n",
    "for idx in top_indices:\n",
    "    top_samples.append({\n",
    "        \"Sample_index\": idx,\n",
    "        \"True_value\": y_test[idx],\n",
    "        \"Predicted_value\": predict_1[idx],\n",
    "        \"MSE\": mse_scores[idx]\n",
    "    })\n",
    "    top_X_test.append(X_test[idx])\n",
    "    temp = []\n",
    "    for item in de_scale(X_test[idx]):\n",
    "        temp.append(item)\n",
    "    for item in predict_1[idx]:\n",
    "        temp.append(item *temp[0])\n",
    "    output_matrix.append(temp)\n",
    "\n",
    "df = pd.DataFrame(output_matrix, columns=[\"thu nhập\",\t\"cố định\",\t\"nhu cầu\",\t\"giáo dục\", \"thanh toán nợ\",\n",
    "                                      \t\"tiết kiệm\",\t\"bản thân\",\t\"a\",\t\"b\",\t\"c\",\t\"d\",\t\"e\",\t\"f\"])\n",
    "df = df.round()\n",
    "pd.set_option('display.float_format', '{:.0f}'.format)\n",
    "df\n",
    "\n"
   ]
  }
 ],
 "metadata": {
  "kernelspec": {
   "display_name": "gpu_onion",
   "language": "python",
   "name": "python3"
  },
  "language_info": {
   "codemirror_mode": {
    "name": "ipython",
    "version": 3
   },
   "file_extension": ".py",
   "mimetype": "text/x-python",
   "name": "python",
   "nbconvert_exporter": "python",
   "pygments_lexer": "ipython3",
   "version": "3.12.3"
  }
 },
 "nbformat": 4,
 "nbformat_minor": 2
}
